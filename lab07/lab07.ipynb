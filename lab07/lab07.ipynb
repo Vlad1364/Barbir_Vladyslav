{
 "cells": [
  {
   "cell_type": "markdown",
   "id": "ff4d70c3",
   "metadata": {},
   "source": [
    "15.11.2023, author: Barbir Vladyslav, Lab:07"
   ]
  },
  {
   "cell_type": "markdown",
   "id": "3dd18d31",
   "metadata": {},
   "source": [
    "# Лабораторна робота №7. Словники, кортежі. Обробка винятків (empty)"
   ]
  },
  {
   "cell_type": "markdown",
   "id": "09ec5577",
   "metadata": {},
   "source": [
    "__Мета:__ навчитися працювати зі структурами даних Кортеж та Словник. Навчитись обробляти основні типи винятків"
   ]
  },
  {
   "cell_type": "markdown",
   "id": "5f470b7f",
   "metadata": {},
   "source": [
    "# Хід роботи"
   ]
  },
  {
   "cell_type": "markdown",
   "id": "fa25543c",
   "metadata": {},
   "source": [
    "1.Напишіть програму, яка створює кортеж зі списку чисел, а потім виводить на екран всі числа, які менші за задане число n. Умова: користувач вводить число n, і щоб створити новий список result, який містить всі числа з кортежу, які менші за n, реалізувати за допомогою генератора списків."
   ]
  },
  {
   "cell_type": "code",
   "execution_count": 2,
   "id": "819256b9",
   "metadata": {},
   "outputs": [
    {
     "name": "stdout",
     "output_type": "stream",
     "text": [
      "Введіть число n: 4\n",
      "Введіть числа через пробіл: 1 2 3 4 6 3 1 \n",
      "Числа, менші за 4 : [1, 2, 3, 3, 1]\n"
     ]
    }
   ],
   "source": [
    "n = int(input(\"Введіть число n: \"))\n",
    "numbers = tuple(map(int, input(\"Введіть числа через пробіл: \").split()))\n",
    "result = [num for num in numbers if num < n]\n",
    "print(\"Числа, менші за\", n, \":\", result)\n"
   ]
  },
  {
   "cell_type": "markdown",
   "id": "6e3df7c4",
   "metadata": {},
   "source": [
    "2.Напишіть програму, яка створює кортеж з трьох елементів, які є рядками, та з’єднує їх в один рядок з комою як роздільником. Примітка: з’єднати рядки також можна за допомогою методу .joint()"
   ]
  },
  {
   "cell_type": "code",
   "execution_count": 5,
   "id": "46561535",
   "metadata": {},
   "outputs": [
    {
     "name": "stdout",
     "output_type": "stream",
     "text": [
      "Результат з'єднання рядків: Влад, Дмитро, Іван\n"
     ]
    }
   ],
   "source": [
    "strings_tuple = (\"Влад\", \"Дмитро\", \"Іван\")\n",
    "result_string = ', '.join(strings_tuple)\n",
    "print(\"Результат з'єднання рядків:\", result_string)\n"
   ]
  },
  {
   "cell_type": "markdown",
   "id": "ed042ad8",
   "metadata": {},
   "source": [
    "3.Створіть словник, який містить інформацію про книги в бібліотеці. Ключами будуть назви книг, а значеннями - автори, рік видання та кількість сторінок. Виведіть на екран інформацію про книгу, введену користувачем."
   ]
  },
  {
   "cell_type": "code",
   "execution_count": 1,
   "id": "c3cb8f41",
   "metadata": {},
   "outputs": [
    {
     "name": "stdout",
     "output_type": "stream",
     "text": [
      "Введіть назву книги: Кобзар\n",
      "\n",
      "Інформація про книгу 'Кобзар':\n",
      "Автор: Тарас Шевченко\n",
      "Рік видання: 1840\n",
      "Кількість сторінок: 200\n"
     ]
    }
   ],
   "source": [
    "ukrainian_library = {\n",
    "    \"Кобзар\": {\"Автор\": \"Тарас Шевченко\", \"Рік видання\": 1840, \"Кількість сторінок\": 200},\n",
    "    \"Захар Беркут\": {\"Автор\": \"Іван Франко\", \"Рік видання\": 1891, \"Кількість сторінок\": 300},\n",
    "    \"Лісова пісня\": {\"Автор\": \"Леся Українка\", \"Рік видання\": 1911, \"Кількість сторінок\": 250},\n",
    "}\n",
    "book_title = input(\"Введіть назву книги: \")\n",
    "if book_title in ukrainian_library:\n",
    "    book_info = ukrainian_library[book_title]\n",
    "    print(f\"\\nІнформація про книгу '{book_title}':\")\n",
    "    print(f\"Автор: {book_info['Автор']}\")\n",
    "    print(f\"Рік видання: {book_info['Рік видання']}\")\n",
    "    print(f\"Кількість сторінок: {book_info['Кількість сторінок']}\")\n",
    "else:\n",
    "    print(f\"\\nКнига '{book_title}' не знайдена в бібліотеці.\")\n",
    "\n"
   ]
  },
  {
   "cell_type": "markdown",
   "id": "f38ffd72",
   "metadata": {},
   "source": [
    "4.Напишіть програму, яка створює словник, що містить інформацію про студентів, використовуючи вказані кортежі в якості значень. Кожен ключ – це прізвище студента. Виведіть на екран інформацію про студента, введеного користувачем."
   ]
  },
  {
   "cell_type": "code",
   "execution_count": 3,
   "id": "3c1e10ac",
   "metadata": {},
   "outputs": [
    {
     "name": "stdout",
     "output_type": "stream",
     "text": [
      "Введіть прізвище студента: Литвиненко\n",
      "\n",
      "Інформація про студента:\n",
      "ПІБ: Литвиненко Владислав Іванович\n",
      "Вік: 22\n",
      "Спеціальність: КР-121\n",
      "Заліковка: 32123456\n"
     ]
    }
   ],
   "source": [
    "# Створення словника із інформацією про студентів\n",
    "students_info = {\n",
    "    \"Литвиненко\": {\"ПІБ\": \"Литвиненко Владислав Іванович\", \"Вік\": 22, \"Спеціальність\": \"КР-121\", \"Заліковка\": \"32123456\"},\n",
    "    \"Олійник\": {\"ПІБ\": \"Олійник Оксана Вікторівна\", \"Вік\": 20, \"Спеціальність\": \"КІ-120\", \"Заліковка\": \"12789012\"},\n",
    "    \"Федоров\": {\"ПІБ\": \"Федоров Дмитро Сидорович\", \"Вік\": 21, \"Спеціальність\": \"КМ-134\", \"Заліковка\": \"65345678\"},\n",
    "}\n",
    "student_lastname = input(\"Введіть прізвище студента: \")\n",
    "if student_lastname in students_info:\n",
    "    student_info = students_info[student_lastname]\n",
    "    print(\"\\nІнформація про студента:\")\n",
    "    print(f\"ПІБ: {student_info['ПІБ']}\")\n",
    "    print(f\"Вік: {student_info['Вік']}\")\n",
    "    print(f\"Спеціальність: {student_info['Спеціальність']}\")\n",
    "    print(f\"Заліковка: {student_info['Заліковка']}\")\n",
    "else:\n",
    "    print(f\"\\nСтудента із прізвищем '{student_lastname}' не знайдено.\")\n"
   ]
  },
  {
   "cell_type": "markdown",
   "id": "9b033afd",
   "metadata": {},
   "source": [
    "5.Створіть словник, який містить інформацію про більше, ніж один номер телефону для кожного з контактів в телефонній книзі. Ключами будуть імена контактів, а значеннями - список їхніх номерів телефонів. Напишіть функцію, яка дозволяє додати новий номер телефону до списку номерів телефону певного контакту. Потім виведіть на екран список номерів телефонів для всіх контактів."
   ]
  },
  {
   "cell_type": "code",
   "execution_count": 11,
   "id": "c17c98e5",
   "metadata": {},
   "outputs": [
    {
     "name": "stdout",
     "output_type": "stream",
     "text": [
      "New number +380991234888 added for contact Андрій\n",
      "\n",
      "List of phone numbers for all contacts:\n",
      "Владислав: +380991234567, +380991112233\n",
      "Андрій: +380991234555, +380991234666, +380991234888\n",
      "Ірина: +380991234777\n"
     ]
    }
   ],
   "source": [
    "contacts = {\n",
    "    \"Владислав\": [\"+380991234567\", \"+380991112233\"],\n",
    "    \"Андрій\": [\"+380991234555\", \"+380991234666\"],\n",
    "    \"Ірина\": [\"+380991234777\"],\n",
    "}\n",
    "def add_number(name, new_number):\n",
    "    if name in contacts:\n",
    "        contacts[name].append(new_number)\n",
    "        print(f\"New number {new_number} added for contact {name}\")\n",
    "    else:\n",
    "        print(f\"Contact with the name {name} not found in the phone book.\")\n",
    "\n",
    "add_number(\"Андрій\", \"+380991234888\")\n",
    "\n",
    "print(\"\\nList of phone numbers for all contacts:\")\n",
    "for name, numbers in contacts.items():\n",
    "    print(f\"{name}: {', '.join(numbers)}\")\n"
   ]
  },
  {
   "cell_type": "markdown",
   "id": "b0b6c27a",
   "metadata": {},
   "source": [
    "## Контрольні запитання\n"
   ]
  },
  {
   "cell_type": "markdown",
   "id": "0a1aff8f",
   "metadata": {},
   "source": [
    "1.Що виведе наступний код?"
   ]
  },
  {
   "cell_type": "code",
   "execution_count": 13,
   "id": "5325a4a0",
   "metadata": {},
   "outputs": [
    {
     "name": "stdout",
     "output_type": "stream",
     "text": [
      "(2, 3)\n"
     ]
    }
   ],
   "source": [
    "my_tuple = (1, 2, 3)\n",
    "print(my_tuple[1:])"
   ]
  },
  {
   "cell_type": "markdown",
   "id": "9ec9b5e4",
   "metadata": {},
   "source": [
    "2.Що виведе наступний код?"
   ]
  },
  {
   "cell_type": "code",
   "execution_count": 14,
   "id": "f222ffab",
   "metadata": {},
   "outputs": [
    {
     "name": "stdout",
     "output_type": "stream",
     "text": [
      "4\n"
     ]
    }
   ],
   "source": [
    "my_dict = {'a': 1, 'b': 2, 'c': 3}\n",
    "print(my_dict.get('d', 4))"
   ]
  },
  {
   "cell_type": "markdown",
   "id": "38e458eb",
   "metadata": {},
   "source": [
    "3.Що виведе наступний код?"
   ]
  },
  {
   "cell_type": "code",
   "execution_count": 1,
   "id": "6fda46d2",
   "metadata": {},
   "outputs": [
    {
     "ename": "TypeError",
     "evalue": "'tuple' object does not support item assignment",
     "output_type": "error",
     "traceback": [
      "\u001b[1;31m---------------------------------------------------------------------------\u001b[0m",
      "\u001b[1;31mTypeError\u001b[0m                                 Traceback (most recent call last)",
      "Cell \u001b[1;32mIn[1], line 2\u001b[0m\n\u001b[0;32m      1\u001b[0m my_tuple \u001b[38;5;241m=\u001b[39m (\u001b[38;5;241m1\u001b[39m, \u001b[38;5;241m2\u001b[39m, \u001b[38;5;241m3\u001b[39m)\n\u001b[1;32m----> 2\u001b[0m my_tuple[\u001b[38;5;241m0\u001b[39m] \u001b[38;5;241m=\u001b[39m \u001b[38;5;241m4\u001b[39m\n\u001b[0;32m      3\u001b[0m \u001b[38;5;28mprint\u001b[39m(my_tuple)\n",
      "\u001b[1;31mTypeError\u001b[0m: 'tuple' object does not support item assignment"
     ]
    }
   ],
   "source": [
    "my_tuple = (1, 2, 3)\n",
    "my_tuple[0] = 4\n",
    "print(my_tuple)"
   ]
  },
  {
   "cell_type": "markdown",
   "id": "88ea4ba7",
   "metadata": {},
   "source": [
    "Кортежі є незмінними об'єктами в Python, тобто їхні елементи не можна змінювати після їх створення. При виконанні цього коду буде помилка."
   ]
  },
  {
   "cell_type": "markdown",
   "id": "afdeaa1b",
   "metadata": {},
   "source": [
    "4.Що виведе наступний код?"
   ]
  },
  {
   "cell_type": "code",
   "execution_count": 2,
   "id": "030ee30f",
   "metadata": {},
   "outputs": [
    {
     "name": "stdout",
     "output_type": "stream",
     "text": [
      "{'a': 1, 'b': 2, 'c': 3, 'd': 4}\n"
     ]
    }
   ],
   "source": [
    "my_dict = {'a': 1, 'b': 2, 'c': 3}\n",
    "my_dict.update({'d': 4})\n",
    "print(my_dict)"
   ]
  },
  {
   "cell_type": "markdown",
   "id": "1ac125bd",
   "metadata": {},
   "source": [
    "## References"
   ]
  },
  {
   "cell_type": "markdown",
   "id": "988ef2dd",
   "metadata": {},
   "source": [
    "1.https://github.com/Vlad1364/test_project/tree/master - посилання на GitHub-репозиторій"
   ]
  }
 ],
 "metadata": {
  "kernelspec": {
   "display_name": "Python 3 (ipykernel)",
   "language": "python",
   "name": "python3"
  },
  "language_info": {
   "codemirror_mode": {
    "name": "ipython",
    "version": 3
   },
   "file_extension": ".py",
   "mimetype": "text/x-python",
   "name": "python",
   "nbconvert_exporter": "python",
   "pygments_lexer": "ipython3",
   "version": "3.11.5"
  }
 },
 "nbformat": 4,
 "nbformat_minor": 5
}
