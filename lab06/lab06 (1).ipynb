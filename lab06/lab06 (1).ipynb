{
 "cells": [
  {
   "cell_type": "markdown",
   "id": "3b501333",
   "metadata": {},
   "source": [
    "24.10.2023, author: Barbir Vladyslav, Lab:06"
   ]
  },
  {
   "cell_type": "markdown",
   "id": "f58e10af",
   "metadata": {},
   "source": [
    "# Лабораторна робота №6. Функції\n"
   ]
  },
  {
   "cell_type": "markdown",
   "id": "ffa3f57d",
   "metadata": {},
   "source": [
    "__Мета:__  навчитися писати функції та користуватися ними"
   ]
  },
  {
   "cell_type": "markdown",
   "id": "ee4780b5",
   "metadata": {},
   "source": [
    "# Хід роботи"
   ]
  },
  {
   "cell_type": "markdown",
   "id": "7e78608c",
   "metadata": {},
   "source": [
    "1.Написати і протестувати функцію, яка приймає один аргумент (рік) і повертає True, якщо рік є високосним, або False інакше."
   ]
  },
  {
   "cell_type": "code",
   "execution_count": 11,
   "id": "41521482",
   "metadata": {},
   "outputs": [
    {
     "name": "stdout",
     "output_type": "stream",
     "text": [
      "1900 ->OK\n",
      "2000 ->OK\n",
      "2016 ->OK\n",
      "1987 ->OK\n"
     ]
    }
   ],
   "source": [
    "def is_year_leap(year):\n",
    "    if (year % 4 == 0 and year % 100 != 0) or year % 400 == 0:\n",
    "        return True\n",
    "    else:\n",
    "        return False\n",
    "\n",
    "test_data = [1900, 2000, 2016, 1987]\n",
    "test_results = [False, True, True, False]\n",
    "\n",
    "for i in range(len(test_data)):\n",
    "    yr = test_data[i]\n",
    "    print(yr, \"->\", end=\"\")\n",
    "    result = is_year_leap(yr)\n",
    "    if result == test_results[i]:\n",
    "        print(\"OK\")\n",
    "    else:\n",
    "        print(\"Failed\")"
   ]
  },
  {
   "cell_type": "markdown",
   "id": "6d0c6a01",
   "metadata": {},
   "source": [
    "2.Написати та протестувати функцію, яка приймає два аргументи (рік і місяць) і повертає кількість днів для даної пари рік-місяць (у той час, як тільки лютий чутливий до значення year, Ваша функція має бути універсальною)."
   ]
  },
  {
   "cell_type": "code",
   "execution_count": 13,
   "id": "b9ee3ab1",
   "metadata": {},
   "outputs": [
    {
     "name": "stdout",
     "output_type": "stream",
     "text": [
      "1900 2 ->OK\n",
      "2000 2 ->OK\n",
      "2016 1 ->OK\n",
      "1987 11 ->OK\n"
     ]
    }
   ],
   "source": [
    "def is_year_leap(year):\n",
    "    if (year % 4 == 0 and year % 100 != 0) or (year % 400 == 0):\n",
    "        return True\n",
    "    else:\n",
    "        return False\n",
    "\n",
    "def days_in_month(year, month):\n",
    "    days_per_month = {\n",
    "        1: 31,\n",
    "        2: 29 if is_year_leap(year) else 28,\n",
    "        3: 31,\n",
    "        4: 30,\n",
    "        5: 31,\n",
    "        6: 30,\n",
    "        7: 31,\n",
    "        8: 31,\n",
    "        9: 30,\n",
    "        10: 31,\n",
    "        11: 30,\n",
    "        12: 31\n",
    "    }\n",
    "    if 1 <= month <= 12:\n",
    "        return days_per_month[month]\n",
    "    else:\n",
    "        return None\n",
    "test_years = [1900, 2000, 2016, 1987]\n",
    "test_months = [2, 2, 1, 11]\n",
    "test_results = [28, 29, 31, 30]\n",
    "for i in range(len(test_years)):\n",
    "    yr = test_years[i]\n",
    "    mo = test_months[i]\n",
    "    print(yr, mo, \"->\", end=\"\")\n",
    "    result = days_in_month(yr, mo)\n",
    "    if result == test_results[i]:\n",
    "        print(\"OK\")\n",
    "    else:\n",
    "        print(\"Failed\")\n"
   ]
  },
  {
   "cell_type": "markdown",
   "id": "0b58dfed",
   "metadata": {},
   "source": [
    "3.Написати та протестувати функцію, яка приймає три аргументи (рік, місяць та день місяця) та повертає відповідний день року або None, якщо якийсь із аргументів невірний."
   ]
  },
  {
   "cell_type": "code",
   "execution_count": 30,
   "id": "c303b3ec",
   "metadata": {},
   "outputs": [
    {
     "name": "stdout",
     "output_type": "stream",
     "text": [
      "366\n"
     ]
    }
   ],
   "source": [
    "def is_year_leap(year):\n",
    "    if (year % 4 == 0 and year % 100 != 0) or (year % 400 == 0):\n",
    "        return True\n",
    "    else:\n",
    "        return False\n",
    "\n",
    "def days_in_month(year, month):\n",
    "    days_per_month = {\n",
    "        1: 31,\n",
    "        2: 29 if is_year_leap(year) else 28,\n",
    "        3: 31,\n",
    "        4: 30,\n",
    "        5: 31,\n",
    "        6: 30,\n",
    "        7: 31,\n",
    "        8: 31,\n",
    "        9: 30,\n",
    "        10: 31,\n",
    "        11: 30,\n",
    "        12: 31\n",
    "    }\n",
    "    return days_per_month.get(month, None)\n",
    "\n",
    "def day_of_year(year, month, day):\n",
    "    if (1 <= month <= 12) and (1 <= day <= days_in_month(year, month)):\n",
    "        day_count = day\n",
    "        for m in range(1, month):\n",
    "            day_count += days_in_month(year, m)\n",
    "        return day_count\n",
    "    else:\n",
    "        return None\n",
    "print(day_of_year(2000, 12, 31))\n"
   ]
  },
  {
   "cell_type": "markdown",
   "id": "b065d286",
   "metadata": {},
   "source": [
    "4.Написати функцію, що перевіряє, чи є число простим чи ні."
   ]
  },
  {
   "cell_type": "code",
   "execution_count": 32,
   "id": "de607a53",
   "metadata": {},
   "outputs": [
    {
     "name": "stdout",
     "output_type": "stream",
     "text": [
      "2 3 5 7 11 13 17 19 \n"
     ]
    }
   ],
   "source": [
    "def is_prime(num):\n",
    "    if num <= 1:\n",
    "        return False\n",
    "    for i in range(2, int(num**0.5) + 1):\n",
    "        if num % i == 0:\n",
    "            return False\n",
    "    return True\n",
    "\n",
    "for i in range(1, 20):\n",
    "    if is_prime(i + 1):\n",
    "        print(i + 1, end=\" \")\n",
    "print()\n",
    "\n"
   ]
  },
  {
   "cell_type": "markdown",
   "id": "19915fea",
   "metadata": {},
   "source": [
    "5.Написати дві функції, що конвертують л/100км в миль на галон, і навпаки."
   ]
  },
  {
   "cell_type": "code",
   "execution_count": 77,
   "id": "38c163f8",
   "metadata": {},
   "outputs": [
    {
     "name": "stdout",
     "output_type": "stream",
     "text": [
      "60.31776386033689\n",
      "31.365237207375184\n",
      "23.523927905531387\n",
      "3.901148906389948\n",
      "7.4916967852010785\n",
      "10.010182087460164\n"
     ]
    }
   ],
   "source": [
    "def liters_100km_to_miles_gallon(liters):\n",
    "    miles_per_gallon = (100 * 3.785) / (liters * 1.609)\n",
    "    return miles_per_gallon\n",
    "\n",
    "def miles_gallon_to_liters_100km(miles):\n",
    "    liters_per_100km = (100* 3.785) / (miles * 1.609)\n",
    "    return liters_per_100km\n",
    "\n",
    "print(liters_100km_to_miles_gallon(3.9))\n",
    "print(liters_100km_to_miles_gallon(7.5))\n",
    "print(liters_100km_to_miles_gallon(10.))\n",
    "print(miles_gallon_to_liters_100km(60.3))\n",
    "print(miles_gallon_to_liters_100km(31.4))\n",
    "print(miles_gallon_to_liters_100km(23.5))\n",
    "\n",
    "\n",
    "\n",
    "\n",
    "\n"
   ]
  },
  {
   "cell_type": "markdown",
   "id": "c3b19426",
   "metadata": {},
   "source": [
    "6.Написати функцію, яка перевіряє, чи три сторони заданої довжини побудувати трикутник. Вона має повернути `True`, якщо сторони можуть утворити трикутник, і `False` в іншому випадку. У цьому випадку `is_a_triangle(a, b, c)` – гарна назва для такої функції.\n",
    "\n"
   ]
  },
  {
   "cell_type": "code",
   "execution_count": 78,
   "id": "25bfd032",
   "metadata": {},
   "outputs": [
    {
     "name": "stdout",
     "output_type": "stream",
     "text": [
      "True\n",
      "False\n"
     ]
    }
   ],
   "source": [
    "def is_a_triangle(a, b, c):\n",
    "    if a + b > c and a + c > b and b + c > a:\n",
    "        return True\n",
    "    else:\n",
    "        return False\n",
    "print(is_a_triangle(3, 4, 5))\n",
    "print(is_a_triangle(2, 3, 8))\n"
   ]
  },
  {
   "cell_type": "markdown",
   "id": "1e5d0de1",
   "metadata": {},
   "source": [
    "7.Написати функцію is_a_right_triangle(a, b, c), яка перевіряє, чи є трикутник зі сторонами a, b, c прямокутним. При цьому потрібно використати функцію is_a_triangle(a, b, c) з завдання 6."
   ]
  },
  {
   "cell_type": "code",
   "execution_count": 80,
   "id": "cb166ae0",
   "metadata": {},
   "outputs": [
    {
     "name": "stdout",
     "output_type": "stream",
     "text": [
      "True\n",
      "True\n",
      "False\n",
      "False\n"
     ]
    }
   ],
   "source": [
    "def is_a_triangle(a, b, c):\n",
    "    if a + b > c and a + c > b and b + c > a:\n",
    "        return True\n",
    "    else:\n",
    "        return False\n",
    "def is_a_right_triangle(a, b, c):\n",
    "    if is_a_triangle(a, b, c):\n",
    "        if a**2 + b**2 == c**2 or a**2 + c**2 == b**2 or b**2 + c**2 == a**2:\n",
    "            return True\n",
    "    return False\n",
    "\n",
    "\n",
    "print(is_a_right_triangle(3, 4, 5)) \n",
    "print(is_a_right_triangle(5, 12, 13))  \n",
    "print(is_a_right_triangle(3, 8, 10))  \n",
    "print(is_a_right_triangle(7, 8, 10))  \n"
   ]
  },
  {
   "cell_type": "markdown",
   "id": "341eb1cd",
   "metadata": {},
   "source": [
    "## Контрольні запитання"
   ]
  },
  {
   "cell_type": "markdown",
   "id": "6ca76c12",
   "metadata": {},
   "source": [
    "1.Який вивод наступного фрагмента?"
   ]
  },
  {
   "cell_type": "markdown",
   "id": "93915d22",
   "metadata": {},
   "source": [
    "У  коді виводиться значення змінної alt поза областю видимості цієї змінної. Змінна alt визначена в межах функції message, і вона не є глобальною змінною, доступною поза цією функцією. Виведеться помилка."
   ]
  },
  {
   "cell_type": "markdown",
   "id": "ce682e21",
   "metadata": {},
   "source": [
    "2.Який вивод наступного фрагмента?"
   ]
  },
  {
   "cell_type": "code",
   "execution_count": 84,
   "id": "2a85666b",
   "metadata": {},
   "outputs": [
    {
     "name": "stdout",
     "output_type": "stream",
     "text": [
      "2\n",
      "1\n"
     ]
    }
   ],
   "source": [
    "a=1\n",
    "\n",
    "def fun():\n",
    "    a=2\n",
    "    print(a)\n",
    "    \n",
    "fun()\n",
    "print(a)"
   ]
  },
  {
   "cell_type": "markdown",
   "id": "13e1b486",
   "metadata": {},
   "source": [
    "Спочатку виведеться значення локальної змінної a всередині функції, а потім глобальної змінної a поза нею."
   ]
  },
  {
   "cell_type": "markdown",
   "id": "9819f88e",
   "metadata": {},
   "source": [
    "3.Який вивод наступного фрагмента?"
   ]
  },
  {
   "cell_type": "code",
   "execution_count": 85,
   "id": "cc93b5d3",
   "metadata": {},
   "outputs": [
    {
     "name": "stdout",
     "output_type": "stream",
     "text": [
      "2\n",
      "3\n"
     ]
    }
   ],
   "source": [
    "a=1\n",
    "\n",
    "def fun():\n",
    "    global a\n",
    "    a=2\n",
    "    print(a)\n",
    "    \n",
    "fun()\n",
    "a=3\n",
    "print(a)\n"
   ]
  },
  {
   "cell_type": "markdown",
   "id": "f5d599af",
   "metadata": {},
   "source": [
    "Спочатку виводиться значення a всередині функції після її виклику (яке дорівнює 2), а потім виводиться глобальна змінна a поза функцією (яке дорівнює 3)."
   ]
  },
  {
   "cell_type": "markdown",
   "id": "b1a3301e",
   "metadata": {},
   "source": [
    "4.Який вивод наступного фрагмента?"
   ]
  },
  {
   "cell_type": "code",
   "execution_count": 86,
   "id": "716172f2",
   "metadata": {},
   "outputs": [
    {
     "name": "stdout",
     "output_type": "stream",
     "text": [
      "2\n",
      "2\n"
     ]
    }
   ],
   "source": [
    "a=1\n",
    "\n",
    "def fun():\n",
    "    global a\n",
    "    a=2\n",
    "    print(a)\n",
    "    \n",
    "a=3\n",
    "fun()\n",
    "print(a)"
   ]
  },
  {
   "cell_type": "markdown",
   "id": "12181ecf",
   "metadata": {},
   "source": [
    "Спочатку глобальна змінна a встановлюється на значення 3, а потім функція fun змінює її на 2. Після виклику функції ви знову виводите глобальну змінну a, яка тепер дорівнює 2."
   ]
  },
  {
   "cell_type": "markdown",
   "id": "21373091",
   "metadata": {},
   "source": [
    "## References"
   ]
  },
  {
   "cell_type": "markdown",
   "id": "8b375cf6",
   "metadata": {},
   "source": [
    "1.https://github.com/Vlad1364/test_project/tree/master - посилання на GitHub-репозиторій"
   ]
  }
 ],
 "metadata": {
  "kernelspec": {
   "display_name": "Python 3 (ipykernel)",
   "language": "python",
   "name": "python3"
  },
  "language_info": {
   "codemirror_mode": {
    "name": "ipython",
    "version": 3
   },
   "file_extension": ".py",
   "mimetype": "text/x-python",
   "name": "python",
   "nbconvert_exporter": "python",
   "pygments_lexer": "ipython3",
   "version": "3.11.4"
  }
 },
 "nbformat": 4,
 "nbformat_minor": 5
}
