{
 "cells": [
  {
   "cell_type": "markdown",
   "id": "7d9a13d5",
   "metadata": {},
   "source": [
    "25.11.2023, author: Barbir Vladyslav, Lab:11"
   ]
  },
  {
   "cell_type": "markdown",
   "id": "c6cff4a7",
   "metadata": {},
   "source": [
    "# Лабораторна робота №11. Об’єктно-орієнтоване програмування. Частина І"
   ]
  },
  {
   "cell_type": "markdown",
   "id": "51a198fc",
   "metadata": {},
   "source": [
    "__Мета:__ навчитися обробляти рядки за допомогою спеціальних функцій і методів."
   ]
  },
  {
   "cell_type": "markdown",
   "id": "71e69720",
   "metadata": {},
   "source": [
    "# Хід роботи"
   ]
  },
  {
   "cell_type": "markdown",
   "id": "00ef45e8",
   "metadata": {},
   "source": [
    "1.Розширити поведінку класу Stack таким чином, щоб клас міг підраховувати всі елементи, що додаються і видаляються (ми припускаємо, що підрахунку видалень достатньо). Використовуйте клас Stack, який надано нижче."
   ]
  },
  {
   "cell_type": "code",
   "execution_count": 3,
   "id": "2a46c6a8",
   "metadata": {},
   "outputs": [
    {
     "name": "stdout",
     "output_type": "stream",
     "text": [
      "100\n"
     ]
    }
   ],
   "source": [
    "class Stack:\n",
    "    def __init__(self):\n",
    "        self.__stk = []\n",
    "\n",
    "    def push(self, val):\n",
    "        self.__stk.append(val)\n",
    "\n",
    "    def pop(self):\n",
    "        val = self.__stk[-1]\n",
    "        del self.__stk[-1]\n",
    "        return val\n",
    "\n",
    "\n",
    "class CountingStack(Stack):\n",
    "    def __init__(self):\n",
    "        super().__init__()\n",
    "        self.__count = 0\n",
    "\n",
    "    def get_counter(self):\n",
    "        return self.__count\n",
    "\n",
    "    def pop(self):\n",
    "        val = super().pop()\n",
    "        self.__count += 1\n",
    "        return val\n",
    "\n",
    "\n",
    "stk = CountingStack()\n",
    "for i in range(100):\n",
    "    stk.push(i)\n",
    "    stk.pop()\n",
    "print(stk.get_counter())\n"
   ]
  },
  {
   "cell_type": "markdown",
   "id": "195981fc",
   "metadata": {},
   "source": [
    "2.реалізувати клас Queue з двома основними операціями: `put(element)`, яка поміщає елемент на кінець черги; `get()`, яка бере елемент із початку черги і повертає його як результат (черга не може бути порожньою для успішного виконання)."
   ]
  },
  {
   "cell_type": "code",
   "execution_count": 5,
   "id": "a7a707d5",
   "metadata": {},
   "outputs": [
    {
     "name": "stdout",
     "output_type": "stream",
     "text": [
      "1\n",
      "dog\n",
      "False\n",
      "Queue error\n"
     ]
    }
   ],
   "source": [
    "class QueueError(Exception): \n",
    "    pass\n",
    "class Queue:\n",
    "    def __init__(self):\n",
    "        self.list_queue = []\n",
    "\n",
    "    def put(self, elem):\n",
    "        self.list_queue.insert(0, elem)\n",
    "\n",
    "\n",
    "    def get(self):\n",
    "        if not len(self.list_queue):\n",
    "            raise QueueError\n",
    "        else:\n",
    "            elem = self.list_queue.pop()\n",
    "        return elem\n",
    "que = Queue()\n",
    "que.put(1)\n",
    "que.put(\"dog\")\n",
    "que.put(False)\n",
    "# print(que.get())\n",
    "try:\n",
    "    for i in range(4):\n",
    "        print(que.get())\n",
    "except QueueError:\n",
    "    print(\"Queue error\")"
   ]
  },
  {
   "cell_type": "markdown",
   "id": "1a7e4b3a",
   "metadata": {},
   "source": [
    "3.Ваше завдання:трохи розширити можливості класу Queue (див. попередній приклад). Нам потрібен метод без параметрів, який повертає True, якщо черга порожня, і False інакше."
   ]
  },
  {
   "cell_type": "code",
   "execution_count": 7,
   "id": "113e3872",
   "metadata": {},
   "outputs": [
    {
     "name": "stdout",
     "output_type": "stream",
     "text": [
      "1\n",
      "dog\n",
      "False\n",
      "Queue empty\n"
     ]
    }
   ],
   "source": [
    "class QueueError(Exception):\n",
    "    pass\n",
    "\n",
    "class Queue:\n",
    "    def __init__(self):\n",
    "        self.__queue = []\n",
    "\n",
    "    def put(self, element):\n",
    "        self.__queue.insert(0, element)\n",
    "\n",
    "    def get(self):\n",
    "        if not self.__queue:\n",
    "            raise QueueError(\"Queue is empty\")\n",
    "        return self.__queue.pop()\n",
    "\n",
    "    def isempty(self):\n",
    "        return not bool(self.__queue)\n",
    "class SuperQueue(Queue):\n",
    "    pass\n",
    "\n",
    "que = SuperQueue()\n",
    "que.put(1)\n",
    "que.put(\"dog\")\n",
    "que.put(False)\n",
    "for i in range(4):\n",
    "    if not que.isempty():\n",
    "        print(que.get())\n",
    "    else:\n",
    "        print(\"Queue empty\")\n"
   ]
  },
  {
   "cell_type": "markdown",
   "id": "537ee312",
   "metadata": {},
   "source": [
    "## Контрольні запитання"
   ]
  },
  {
   "cell_type": "markdown",
   "id": "759c68ed",
   "metadata": {},
   "source": [
    "1.У наступному оголошенні чогось не вистачає – чого?"
   ]
  },
  {
   "cell_type": "code",
   "execution_count": 2,
   "id": "387452ed",
   "metadata": {},
   "outputs": [
    {
     "name": "stdout",
     "output_type": "stream",
     "text": [
      "Sssssss\n"
     ]
    }
   ],
   "source": [
    "class Snakes:\n",
    "    def __init__(self):\n",
    "        self.sound = 'Sssssss'\n",
    "snake_instance = Snakes()\n",
    "print(snake_instance.sound)"
   ]
  },
  {
   "cell_type": "markdown",
   "id": "face3ccd",
   "metadata": {},
   "source": [
    "2.Припускаючи, що існує клас з ім’ям Snake, напишіть перший рядок оголошення класу Python, вказавши, що новий клас насправді є підкласом NewSnake."
   ]
  },
  {
   "cell_type": "code",
   "execution_count": 5,
   "id": "f10f220f",
   "metadata": {},
   "outputs": [
    {
     "name": "stdout",
     "output_type": "stream",
     "text": [
      "Sssssss\n"
     ]
    }
   ],
   "source": [
    "class Snakes:\n",
    "    def __init__(self):\n",
    "        self.sound = 'Sssssss'\n",
    "class NewSnake(Snakes):\n",
    "    pass\n",
    "new_snake_instance = NewSnake()\n",
    "print(new_snake_instance.sound) \n"
   ]
  },
  {
   "cell_type": "markdown",
   "id": "d51555b6",
   "metadata": {},
   "source": [
    "3.Змініть код, щоб гарантувати, що властивість venomous є приватною."
   ]
  },
  {
   "cell_type": "code",
   "execution_count": 11,
   "id": "be481d48",
   "metadata": {},
   "outputs": [
    {
     "name": "stdout",
     "output_type": "stream",
     "text": [
      "True\n",
      "False\n"
     ]
    }
   ],
   "source": [
    "class Snaker:\n",
    "    def __init__(self):\n",
    "        self.__venomous = True\n",
    "\n",
    "    def get_venomous(self):\n",
    "        return self.__venomous\n",
    "\n",
    "    def set_venomous(self, value):\n",
    "        self.__venomous = value\n",
    "\n",
    "snake_instance = Snaker()\n",
    "print(snake_instance.get_venomous()) \n",
    "snake_instance.set_venomous(False)\n",
    "print(snake_instance.get_venomous())\n"
   ]
  },
  {
   "cell_type": "markdown",
   "id": "619764ed",
   "metadata": {},
   "source": [
    "## References"
   ]
  },
  {
   "cell_type": "markdown",
   "id": "7affe82b",
   "metadata": {},
   "source": [
    "1.https://github.com/Vlad1364/test_project/tree/master - посилання на GitHub-репозиторій"
   ]
  }
 ],
 "metadata": {
  "kernelspec": {
   "display_name": "Python 3 (ipykernel)",
   "language": "python",
   "name": "python3"
  },
  "language_info": {
   "codemirror_mode": {
    "name": "ipython",
    "version": 3
   },
   "file_extension": ".py",
   "mimetype": "text/x-python",
   "name": "python",
   "nbconvert_exporter": "python",
   "pygments_lexer": "ipython3",
   "version": "3.11.5"
  }
 },
 "nbformat": 4,
 "nbformat_minor": 5
}
