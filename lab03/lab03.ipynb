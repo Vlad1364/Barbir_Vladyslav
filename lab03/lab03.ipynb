{
 "cells": [
  {
   "cell_type": "markdown",
   "id": "20ff211f",
   "metadata": {},
   "source": [
    "27.09.2023, author: Barbir Vladyslav, Lab:03"
   ]
  },
  {
   "cell_type": "markdown",
   "id": "35ee2ebb",
   "metadata": {},
   "source": [
    "# Лабораторна робота №3. Змінні. Базові операції вводу/виводу"
   ]
  },
  {
   "cell_type": "markdown",
   "id": "aebbef55",
   "metadata": {},
   "source": [
    "__Мета:__ _освоїти роботу зі змінними та операції вводу і виводу_"
   ]
  },
  {
   "cell_type": "markdown",
   "id": "de94c308",
   "metadata": {},
   "source": [
    "# Хід роботи"
   ]
  },
  {
   "cell_type": "markdown",
   "id": "0693ea64",
   "metadata": {},
   "source": [
    "1.Написати програму, яка обчислює значення функції Гауса:"
   ]
  },
  {
   "cell_type": "code",
   "execution_count": 1,
   "id": "118e19c2",
   "metadata": {},
   "outputs": [
    {
     "name": "stdout",
     "output_type": "stream",
     "text": [
      "Введіть значення μ: 1\n",
      "Введіть значення σ: 1\n",
      "Введіть значення x: 2\n",
      "Значення функції Гауса для x = 2.0, μ = 1.0, σ = 1.0: 0.24197072451914337\n"
     ]
    }
   ],
   "source": [
    "import math\n",
    "μ = float(input(\"Введіть значення μ: \"))\n",
    "σ = float(input(\"Введіть значення σ: \"))\n",
    "x = float(input(\"Введіть значення x: \"))\n",
    "\n",
    "y = 1 / (σ * math.sqrt(2 * math.pi)) * math.exp(-((x - μ) ** 2) / (2 * σ ** 2))\n",
    "\n",
    "print(f'Значення функції Гауса для x = {x}, μ = {μ}, σ = {σ}: {y}')\n"
   ]
  },
  {
   "cell_type": "markdown",
   "id": "564b9c11",
   "metadata": {},
   "source": [
    "2.Створити змінні: john, mary, і adam, надати значення змінним. Вивести змінні в один рядок і розділити їх комами, створити нову змінну з ім’ям totalApple, що дорівнює сумі трьох попередніх змінних. Вивести значення, збережене в totalapples, в консоль. Надрукувати рядок та ціле число разом в одному рядку, наприклад, “Загальна кількість яблук:” та total_apples."
   ]
  },
  {
   "cell_type": "code",
   "execution_count": 2,
   "id": "1c8b9292",
   "metadata": {},
   "outputs": [
    {
     "name": "stdout",
     "output_type": "stream",
     "text": [
      "john: 3, mary: 5, adam: 6\n",
      "14\n",
      "Загальна кількість яблук: 14\n"
     ]
    }
   ],
   "source": [
    "john = 3\n",
    "mary = 5\n",
    "adam = 6\n",
    "\n",
    "print(f'john: {john}, mary: {mary}, adam: {adam}')\n",
    "totalApple = john + mary + adam\n",
    "\n",
    "print(totalApple)\n",
    "print(f\"Загальна кількість яблук: {totalApple}\")"
   ]
  },
  {
   "cell_type": "markdown",
   "id": "0e1ee6f6",
   "metadata": {},
   "source": [
    "3.Написати програму, щоб вона перетворила: милі у кілометри та кілометри на милі."
   ]
  },
  {
   "cell_type": "code",
   "execution_count": 3,
   "id": "28b76771",
   "metadata": {},
   "outputs": [
    {
     "name": "stdout",
     "output_type": "stream",
     "text": [
      "7.38 miles is 11.88 kilometers\n",
      "12.25 kilometers is 7.61 miles\n"
     ]
    }
   ],
   "source": [
    "miles = 7.38\n",
    "kilometers = 12.25\n",
    "\n",
    "miles_to_kilometers = miles * 1.61\n",
    "kilometers_to_miles = kilometers / 1.61\n",
    "\n",
    "print(miles, \"miles is\", round(miles_to_kilometers, 2), \"kilometers\")\n",
    "print(kilometers, \"kilometers is\", round(kilometers_to_miles, 2), \"miles\")"
   ]
  },
  {
   "cell_type": "markdown",
   "id": "2ef391ee",
   "metadata": {},
   "source": [
    "4.Завершити код, щоб розрахувати такий вираз:"
   ]
  },
  {
   "cell_type": "markdown",
   "id": "d7a888dc",
   "metadata": {},
   "source": [
    "![](img/1.png)"
   ]
  },
  {
   "cell_type": "code",
   "execution_count": 6,
   "id": "fbc6e716",
   "metadata": {},
   "outputs": [
    {
     "name": "stdout",
     "output_type": "stream",
     "text": [
      "y = 3.0\n"
     ]
    }
   ],
   "source": [
    "x = 1\n",
    "x = float(x)\n",
    "y = 3 * (x**3) - 2 * (x**2) + 3**x - 1\n",
    "print(\"y =\", y)"
   ]
  },
  {
   "cell_type": "markdown",
   "id": "8bb077f6",
   "metadata": {},
   "source": [
    "5.Покращити код: додати або видалити коментарі там, де це доречно:"
   ]
  },
  {
   "cell_type": "code",
   "execution_count": 8,
   "id": "fb5ed2c9",
   "metadata": {},
   "outputs": [
    {
     "name": "stdout",
     "output_type": "stream",
     "text": [
      "Seconds in Hours:  7200\n"
     ]
    }
   ],
   "source": [
    "# this program computes the number of seconds in a given number of hours\n",
    "\n",
    "hours = 2 # number of hours\n",
    "seconds = 3600 # number of seconds in 1 hour\n",
    "\n",
    "print(\"Seconds in Hours: \", hours * seconds) # printing the number of seconds in a given number of hours\n",
    "\n",
    "#this is the end of the program that computes the number of seconds in 2 hour\n"
   ]
  },
  {
   "cell_type": "markdown",
   "id": "af329191",
   "metadata": {},
   "source": [
    "6.Завершити код, щоб отримати результати чотирьох основних арифметичних операцій."
   ]
  },
  {
   "cell_type": "code",
   "execution_count": 2,
   "id": "6bf51864",
   "metadata": {},
   "outputs": [
    {
     "name": "stdout",
     "output_type": "stream",
     "text": [
      "Введіть значення a: 2\n",
      "Введіть значення b: 2\n",
      "Додавання: 4.0\n",
      "Віднімання: 0.0\n",
      "Множення: 4.0\n",
      "Ділення: 1.0\n"
     ]
    }
   ],
   "source": [
    "a = float(input(\"Введіть значення a: \"))\n",
    "b = float(input(\"Введіть значення b: \"))\n",
    "\n",
    "print(\"Додавання:\",a+b)\n",
    "print(\"Віднімання:\",a-b)\n",
    "print(\"Множення:\",a*b)\n",
    "print(\"Ділення:\", a / b)\n"
   ]
  },
  {
   "cell_type": "markdown",
   "id": "0f1ee9a5",
   "metadata": {},
   "source": [
    "7.Завершити код, щоб оцінити такий вираз:"
   ]
  },
  {
   "cell_type": "markdown",
   "id": "713a16dd",
   "metadata": {},
   "source": [
    "![](img/2.png)"
   ]
  },
  {
   "cell_type": "code",
   "execution_count": 10,
   "id": "14409f35",
   "metadata": {},
   "outputs": [
    {
     "name": "stdout",
     "output_type": "stream",
     "text": [
      "Enter value for x: -5\n",
      "y = -0.19258241758241756\n"
     ]
    }
   ],
   "source": [
    "x = float(input(\"Enter value for x: \"))\n",
    "\n",
    "y= 1 / (x + (1 / (x + (1 / (x + (1 / (x + (1 / x))))))))\n",
    "\n",
    "print(\"y =\", y)"
   ]
  },
  {
   "cell_type": "markdown",
   "id": "520b474e",
   "metadata": {},
   "source": [
    "8.Підготувати простий код, здатний порахувати час закінчення періоду часу, вираженого в кількості хвилин. Час початку вказується у вигляді пари годин `(0..23)` та хвилин `(0..59)`.Результат повинен бути надрукований на консолі."
   ]
  },
  {
   "cell_type": "code",
   "execution_count": 12,
   "id": "355a6ed7",
   "metadata": {},
   "outputs": [
    {
     "name": "stdout",
     "output_type": "stream",
     "text": [
      "Введіть години початку (0-23): 14\n",
      "Введіть хвилини початку (0-59): 30\n",
      "Введіть тривалість події у хвилинах: 120\n",
      "Подія закінчується о 16:30\n"
     ]
    }
   ],
   "source": [
    "start_hour = int(input(\"Введіть години початку (0-23): \"))\n",
    "start_minute = int(input(\"Введіть хвилини початку (0-59): \"))\n",
    "duration_minutes = int(input(\"Введіть тривалість події у хвилинах: \"))\n",
    "\n",
    "end_hour = (start_hour + (start_minute + duration_minutes) // 60) % 24\n",
    "end_minute = (start_minute + duration_minutes) % 60\n",
    "\n",
    "print(f\"Подія закінчується о {end_hour}:{end_minute}\")"
   ]
  },
  {
   "cell_type": "markdown",
   "id": "25c74fe4",
   "metadata": {},
   "source": [
    "## Контрольні запитання"
   ]
  },
  {
   "cell_type": "markdown",
   "id": "ee5e15dd",
   "metadata": {},
   "source": [
    "1.Який вивід наступного фрагмента коду?"
   ]
  },
  {
   "cell_type": "markdown",
   "id": "4d0e3f34",
   "metadata": {},
   "source": [
    "Цей код приймає введене користувачем ціле число, а потім виводить рядок, який складається з символу \"5\", повтореного задану кількість разів, де ця кількість разів визначається введеним числом."
   ]
  },
  {
   "cell_type": "code",
   "execution_count": 20,
   "id": "10579eb3",
   "metadata": {},
   "outputs": [
    {
     "name": "stdout",
     "output_type": "stream",
     "text": [
      "Enter a number:5\n",
      "55555\n"
     ]
    }
   ],
   "source": [
    "x = int(input(\"Enter a number:\"))\n",
    "print(x * \"5\")"
   ]
  },
  {
   "cell_type": "markdown",
   "id": "27700307",
   "metadata": {},
   "source": [
    "2.Який очікуваний результат наступного фрагмента?"
   ]
  },
  {
   "cell_type": "markdown",
   "id": "0964fb8b",
   "metadata": {},
   "source": [
    "Другий рядок використовує функцію `type()` для визначення типу змінної x і виводить цей тип на екран. Таким чином, код виведе на екран тип введеного числа."
   ]
  },
  {
   "cell_type": "code",
   "execution_count": 16,
   "id": "e4f1cef3",
   "metadata": {},
   "outputs": [
    {
     "name": "stdout",
     "output_type": "stream",
     "text": [
      "Enter a number:5\n",
      "<class 'int'>\n"
     ]
    }
   ],
   "source": [
    "x = int(input(\"Enter a number:\"))\n",
    "print(type(x))"
   ]
  },
  {
   "cell_type": "markdown",
   "id": "ef8f7af0",
   "metadata": {},
   "source": [
    "## References"
   ]
  },
  {
   "cell_type": "markdown",
   "id": "65ae030a",
   "metadata": {},
   "source": [
    "1.https://github.com/Vlad1364/test_project/tree/master - посилання на GitHub-репозиторій"
   ]
  }
 ],
 "metadata": {
  "kernelspec": {
   "display_name": "Python 3 (ipykernel)",
   "language": "python",
   "name": "python3"
  },
  "language_info": {
   "codemirror_mode": {
    "name": "ipython",
    "version": 3
   },
   "file_extension": ".py",
   "mimetype": "text/x-python",
   "name": "python",
   "nbconvert_exporter": "python",
   "pygments_lexer": "ipython3",
   "version": "3.11.4"
  }
 },
 "nbformat": 4,
 "nbformat_minor": 5
}
