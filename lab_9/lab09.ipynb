{
 "cells": [
  {
   "cell_type": "markdown",
   "id": "ea94b1f0",
   "metadata": {},
   "source": [
    "19.11.2023, author: Barbir Vladyslav, Lab:09"
   ]
  },
  {
   "cell_type": "markdown",
   "id": "35791fc5",
   "metadata": {},
   "source": [
    "# Лабораторна робота №9. Рядки. Методи рядків і списків. Частина І"
   ]
  },
  {
   "cell_type": "markdown",
   "id": "5c3c2690",
   "metadata": {},
   "source": [
    "__Мета:__ навчитися обробляти рядки за допомогою спеціальних функцій і методів."
   ]
  },
  {
   "cell_type": "markdown",
   "id": "fa663954",
   "metadata": {},
   "source": [
    "# Хід роботи"
   ]
  },
  {
   "cell_type": "markdown",
   "id": "19f09c4d",
   "metadata": {},
   "source": [
    "1.Написати власну функцію, яка працює практично так само, як оригінальний метод split()"
   ]
  },
  {
   "cell_type": "code",
   "execution_count": 2,
   "id": "3d1f1133",
   "metadata": {},
   "outputs": [
    {
     "name": "stdout",
     "output_type": "stream",
     "text": [
      "['To', 'be', 'or', 'not', 'to', 'be,', 'that', 'is', 'the', 'question']\n",
      "['To', 'be', 'or', 'not', 'to', 'be,that', 'is', 'the', 'question']\n",
      "[]\n",
      "['abc']\n",
      "[]\n"
     ]
    }
   ],
   "source": [
    "def mysplit(string):\n",
    "    list_split = []\n",
    "    word = \"\"\n",
    "\n",
    "    for char in string:\n",
    "        if char.isspace():\n",
    "            if word:\n",
    "                list_split.append(word)\n",
    "            word = \"\"\n",
    "        else:\n",
    "            word += char\n",
    "\n",
    "    if word:\n",
    "        list_split.append(word)\n",
    "\n",
    "    return list_split\n",
    "\n",
    "print(mysplit(\"To be or not to be, that is the question\"))\n",
    "\n",
    "print(mysplit(\"To be or not to be,that is the question\"))\n",
    "\n",
    "print(mysplit(\"   \"))\n",
    "\n",
    "print(mysplit(\" abc \"))\n",
    "\n",
    "print(mysplit(\"\"))\n",
    "\n"
   ]
  },
  {
   "cell_type": "markdown",
   "id": "7dca2116",
   "metadata": {},
   "source": [
    "2.Написати програму, яка здатна імітувати роботу пристрою з семисегментним дисплеєм, хоча краще все ж таки використовувати окремі світлодіоди замість сегментів."
   ]
  },
  {
   "cell_type": "code",
   "execution_count": 5,
   "id": "dc039423",
   "metadata": {},
   "outputs": [
    {
     "name": "stdout",
     "output_type": "stream",
     "text": [
      "Введіть невід'ємне ціле число: 1234567890\n",
      "  # ### ### # # ### ### ### ### ### ### \n",
      "  #   #   # # # #   #     # # # # # # # \n",
      "  # ### ### ### ### ###   # ### ### # # \n",
      "  # #     #   #   # # #   # # #   # # # \n",
      "  # ### ###   # ### ###   # ### ### ### \n"
     ]
    }
   ],
   "source": [
    "number_dict = {'1': ('  #', '  #', '  #', '  #', '  #'),\n",
    "               '2': ('###', '  #', '###', '#  ', '###'),\n",
    "               '3': ('###', '  #', '###', '  #', '###'),\n",
    "               '4': ('# #', '# #', '###', '  #', '  #'),\n",
    "               '5': ('###', '#  ', '###', '  #', '###'),\n",
    "               '6': ('###', '#  ', '###', '# #', '###'),\n",
    "               '7': ('###', '  #', '  #', '  #', '  #'),\n",
    "               '8': ('###', '# #', '###', '# #', '###'),\n",
    "               '9': ('###', '# #', '###', '  #', '###'),\n",
    "               '0': ('###', '# #', '# #', '# #', '###')\n",
    "               }\n",
    "\n",
    "def display_number(num):\n",
    "    if num < 0:\n",
    "        print(\"Число має бути невід'ємним.\")\n",
    "        return\n",
    "\n",
    "    num_str = str(num)\n",
    "\n",
    "    for level in range(5):\n",
    "        for digit in num_str:\n",
    "            print(number_dict[digit][level], end=' ')\n",
    "        print()\n",
    "\n",
    "number_input = input('Введіть невід\\'ємне ціле число: ')\n",
    "\n",
    "try:\n",
    "    \n",
    "    number = int(number_input)\n",
    "    display_number(number)\n",
    "except ValueError:\n",
    "    print('Будь ласка, введіть коректне ціле число.')\n"
   ]
  },
  {
   "cell_type": "markdown",
   "id": "fef8f14c",
   "metadata": {},
   "source": [
    "3.Напишіть програму для шифрування поввідомлення, використовуючи такі припущення: вона приймає лише латинські літери (примітка: римляни не використовували пробіли, ні цифри); всі літери повідомлення знаходяться у верхньому регістрі (примітка: римляни знали лише великі літери)."
   ]
  },
  {
   "cell_type": "code",
   "execution_count": 6,
   "id": "ffa71772",
   "metadata": {},
   "outputs": [
    {
     "name": "stdout",
     "output_type": "stream",
     "text": [
      "Enter your message:  I love You\n",
      "Encrypted message: JMPWFZPV\n"
     ]
    }
   ],
   "source": [
    "text = input(\"Enter your message: \")\n",
    "cipher = ''\n",
    "\n",
    "for char in text:\n",
    "    if char.isalpha(): \n",
    "        char = char.upper()  \n",
    "        code = ord(char) + 1\n",
    "        if code > ord('Z'):\n",
    "            code = ord('A')\n",
    "        cipher += chr(code)\n",
    "\n",
    "print(\"Encrypted message:\", cipher)\n"
   ]
  },
  {
   "cell_type": "markdown",
   "id": "81c730c8",
   "metadata": {},
   "source": [
    "4.Напишить програму для дешифрування повідомлення, зашифрованого шифром Цезара."
   ]
  },
  {
   "cell_type": "code",
   "execution_count": 7,
   "id": "3f0a09b2",
   "metadata": {},
   "outputs": [
    {
     "name": "stdout",
     "output_type": "stream",
     "text": [
      "Enter your cryptogram: JMPWFZPV\n",
      "Decrypted message: ILOVEYOU\n"
     ]
    }
   ],
   "source": [
    "cipher = input('Enter your cryptogram: ')\n",
    "text = ''\n",
    "\n",
    "for char in cipher:\n",
    "    if char.isalpha():  \n",
    "        char = char.upper()  \n",
    "        code = ord(char) - 1\n",
    "        if code < ord('A'):\n",
    "            code = ord('Z')\n",
    "        text += chr(code)\n",
    "\n",
    "print(\"Decrypted message:\", text)\n"
   ]
  },
  {
   "cell_type": "markdown",
   "id": "858fb863",
   "metadata": {},
   "source": [
    "5.Написати програму, яка: запитує у користувача рядок, який треба зашифрувати; запитує користувача значення зсуву (ціле число з діапазону 1-25 - примітка: Ви повинні змусити користувача ввести дійсне значення зсуву (не здавайтеся і не дозволяйте некоректним даним обдурити Вас); друкує закодований текст. Протестуйте свій код, використовуючи надані нами дані."
   ]
  },
  {
   "cell_type": "code",
   "execution_count": 8,
   "id": "99e6c2c2",
   "metadata": {},
   "outputs": [
    {
     "name": "stdout",
     "output_type": "stream",
     "text": [
      "Enter the text to encrypt: I love YOU\n",
      "Enter the shift value (1-25): 3\n",
      "Encrypted text: L oryh BRX\n"
     ]
    }
   ],
   "source": [
    "def caesar_cipher(text, shift):\n",
    "    result = ''\n",
    "    \n",
    "    for char in text:\n",
    "        if char.isalpha():\n",
    "            is_upper = char.isupper() \n",
    "            char = char.upper()\n",
    "            code = ord(char) + shift\n",
    "            \n",
    "            if is_upper:\n",
    "                if code > ord('Z'):\n",
    "                    code -= 26\n",
    "            else:\n",
    "                if code > ord('z'):\n",
    "                    code -= 26\n",
    "            \n",
    "            result += chr(code) if is_upper else chr(code).lower()\n",
    "        else:\n",
    "            result += char\n",
    "\n",
    "    return result\n",
    "\n",
    "text_to_encrypt = input('Enter the text to encrypt: ')\n",
    "while True:\n",
    "    try:\n",
    "        shift_value = int(input('Enter the shift value (1-25): '))\n",
    "        if 1 <= shift_value <= 25:\n",
    "            break\n",
    "        else:\n",
    "            print('Please enter a valid shift value in the range of 1 to 25.')\n",
    "    except ValueError:\n",
    "        print('Invalid input. Please enter a valid integer.')\n",
    "\n",
    "encrypted_text = caesar_cipher(text_to_encrypt, shift_value)\n",
    "print('Encrypted text:', encrypted_text)\n"
   ]
  },
  {
   "cell_type": "markdown",
   "id": "a9b0286f",
   "metadata": {},
   "source": [
    "##  Контрольні запитання"
   ]
  },
  {
   "cell_type": "markdown",
   "id": "8ed943f4",
   "metadata": {},
   "source": [
    "1.Який із наступних рядків описує справжню умову?"
   ]
  },
  {
   "cell_type": "code",
   "execution_count": 16,
   "id": "a5c56f4b",
   "metadata": {},
   "outputs": [
    {
     "data": {
      "text/plain": [
       "True"
      ]
     },
     "execution_count": 16,
     "metadata": {},
     "output_type": "execute_result"
    }
   ],
   "source": [
    "'Smith' > '1000'"
   ]
  },
  {
   "cell_type": "markdown",
   "id": "f8fc5ed3",
   "metadata": {},
   "source": [
    "2.Який очікуваний результат наступного коду?"
   ]
  },
  {
   "cell_type": "code",
   "execution_count": 20,
   "id": "37f418a1",
   "metadata": {},
   "outputs": [
    {
     "name": "stdout",
     "output_type": "stream",
     "text": [
      "are\n"
     ]
    }
   ],
   "source": [
    "s1 = 'Where are the snows of yesteryear'\n",
    "s2 = s1.split()\n",
    "s3 = sorted(s2)\n",
    "print(s3[1])"
   ]
  },
  {
   "cell_type": "markdown",
   "id": "5164b4dc",
   "metadata": {},
   "source": [
    "3.Який очікуваний результат наступного коду?"
   ]
  },
  {
   "cell_type": "markdown",
   "id": "d2ab421d",
   "metadata": {},
   "source": [
    "Cпроба викликати int('12.8') видасть помилку ValueError, оскільки рядок '12.8' не може бути перетворений у ціле число без втрати десяткової частини."
   ]
  },
  {
   "cell_type": "markdown",
   "id": "90b35a18",
   "metadata": {},
   "source": [
    "## References"
   ]
  },
  {
   "cell_type": "markdown",
   "id": "76a388c2",
   "metadata": {},
   "source": [
    "1.https://github.com/Vlad1364/test_project/tree/master - посилання на GitHub-репозиторій"
   ]
  }
 ],
 "metadata": {
  "kernelspec": {
   "display_name": "Python 3 (ipykernel)",
   "language": "python",
   "name": "python3"
  },
  "language_info": {
   "codemirror_mode": {
    "name": "ipython",
    "version": 3
   },
   "file_extension": ".py",
   "mimetype": "text/x-python",
   "name": "python",
   "nbconvert_exporter": "python",
   "pygments_lexer": "ipython3",
   "version": "3.11.4"
  }
 },
 "nbformat": 4,
 "nbformat_minor": 5
}
