{
 "cells": [
  {
   "cell_type": "markdown",
   "id": "920f3434",
   "metadata": {},
   "source": [
    "19.11.2023, author: Barbir Vladyslav, Lab:10"
   ]
  },
  {
   "cell_type": "markdown",
   "id": "72e9fc00",
   "metadata": {},
   "source": [
    "# Лабораторна робота №10. Рядки. Методи рядків і списків. Винятки. Частина ІІ"
   ]
  },
  {
   "cell_type": "markdown",
   "id": "0613baa5",
   "metadata": {},
   "source": [
    "__Мета:__ навчитися обробляти рядки за допомогою спеціальних функцій і методів."
   ]
  },
  {
   "cell_type": "markdown",
   "id": "e1688355",
   "metadata": {},
   "source": [
    "# Хід роботи"
   ]
  },
  {
   "cell_type": "markdown",
   "id": "84952dd6",
   "metadata": {},
   "source": [
    "1.написати програму, яка: запитує у користувача текст; перевіряє, чи є введений текст паліндромом, і друкує результат."
   ]
  },
  {
   "cell_type": "code",
   "execution_count": null,
   "id": "e86bdb50",
   "metadata": {
    "scrolled": true
   },
   "outputs": [
    {
     "name": "stdout",
     "output_type": "stream",
     "text": [
      "Введіть текст:А роза упала на лапу Азора\n",
      "It's a palindrom\n"
     ]
    }
   ],
   "source": [
    "def ispalindrom(text):\n",
    "    text = text.replace(\" \", \"\").lower()\n",
    "    if text == text[::-1]:\n",
    "        print(\"It's a palindrom\")\n",
    "    else:\n",
    "        print(\"It's not a palindrom\")\n",
    "\n",
    "text = input(\"Введіть текст:\")\n",
    "ispalindrom(text)\n",
    "\n",
    "text = input(\"Введіть текст:\")\n",
    "ispalindrom(text)"
   ]
  },
  {
   "cell_type": "markdown",
   "id": "56952a20",
   "metadata": {},
   "source": [
    "2.Ваше завдання – написати програму, яка: запитує у користувача два окремі тексти;перевіряє, чи введені тексти є анаграмами, і виводить результат."
   ]
  },
  {
   "cell_type": "code",
   "execution_count": 1,
   "id": "7b7e4936",
   "metadata": {},
   "outputs": [
    {
     "name": "stdout",
     "output_type": "stream",
     "text": [
      "Введіть перше слово:Listen\n",
      "Введіть друге слово:Silent\n",
      "Анаграми\n"
     ]
    }
   ],
   "source": [
    "text1 = input(\"Введіть перше слово:\")\n",
    "text2 = input(\"Введіть друге слово:\")\n",
    "\n",
    "text1 = list(text1.replace(\" \", \"\").lower())\n",
    "text2 = list(text2.replace(\" \", \"\").lower())\n",
    "\n",
    "if sorted(text1) == sorted(text2):\n",
    "    print(\"Анаграми\")\n",
    "else:\n",
    "    print(\"Не анаграми\")"
   ]
  },
  {
   "cell_type": "markdown",
   "id": "f73c02a0",
   "metadata": {},
   "source": [
    "3.Написати програму, яка:запитує користувача про його/її день народження (у форматі РРРГММДД, або РРРРДДММ, або ММДДРРРР - фактично порядок цифр не має значення); виводить цифру життя для дати. Протестуйте свій код, використовуючи надані нами дані."
   ]
  },
  {
   "cell_type": "code",
   "execution_count": 2,
   "id": "6d45b112",
   "metadata": {},
   "outputs": [
    {
     "name": "stdout",
     "output_type": "stream",
     "text": [
      "Введіть дату народження у форматі YYYYMMDD:1223222\n",
      "5\n"
     ]
    }
   ],
   "source": [
    "date = input(\"Введіть дату народження у форматі YYYYMMDD:\")\n",
    "\n",
    "while True:\n",
    "    sum = 0\n",
    "    for simbol in date:\n",
    "        sum += int(simbol)\n",
    "\n",
    "    date = str(sum)\n",
    "\n",
    "    if len(date) == 1:\n",
    "        break\n",
    "\n",
    "print(sum)"
   ]
  },
  {
   "cell_type": "markdown",
   "id": "1dfbaa15",
   "metadata": {},
   "source": [
    "4.Написати програму, яка відповість на наступне запитання: символи, що становлять перший рядок, приховані всередині другого рядка?"
   ]
  },
  {
   "cell_type": "code",
   "execution_count": 3,
   "id": "5544278c",
   "metadata": {},
   "outputs": [
    {
     "name": "stdout",
     "output_type": "stream",
     "text": [
      "Yes\n",
      "No\n"
     ]
    }
   ],
   "source": [
    "def check_word_combination(word, combination):\n",
    "    word_index = 0\n",
    "\n",
    "    for char in combination:\n",
    "        if char.lower() == word[word_index].lower():\n",
    "            word_index += 1\n",
    "            if word_index == len(word):\n",
    "                return \"Yes\"\n",
    "\n",
    "    return \"No\"\n",
    "word_to_find = \"dog\"\n",
    "combination1 = \"vcxzxduybfdsobywuefgas\"\n",
    "combination2 = \"vcxzxdcybfdstbywuefsas\"\n",
    "\n",
    "result1 = check_word_combination(word_to_find, combination1)\n",
    "result2 = check_word_combination(word_to_find, combination2)\n",
    "\n",
    "print(result1)  # Виведе \"Yes\"\n",
    "print(result2)  # Виведе \"No\"\n"
   ]
  },
  {
   "cell_type": "markdown",
   "id": "d3720724",
   "metadata": {},
   "source": [
    "5.Можна “ловити” і обробляти винятки в Python за допомогою try-except блоку. Отже, якщо у є підозра, що будь-який конкретний шматок коду може викликати виняток, можна написати код, який коректно оброблятиме його і не припинить виконання програми:"
   ]
  },
  {
   "cell_type": "code",
   "execution_count": 4,
   "id": "d4fd52d0",
   "metadata": {},
   "outputs": [
    {
     "name": "stdout",
     "output_type": "stream",
     "text": [
      " Введіть ціле число: b\n",
      "Введене значення не є допустимим числом. Повторіть спробу...\n",
      " Введіть ціле число: 12\n",
      "6.0\n"
     ]
    }
   ],
   "source": [
    "while True:\n",
    "    try: \n",
    "        number = int(input(\" Введіть ціле число: \")) \n",
    "        print(number/2) \n",
    "        break \n",
    "    except: \n",
    "        print(\"Введене значення не є допустимим числом. Повторіть спробу...\")"
   ]
  },
  {
   "cell_type": "markdown",
   "id": "30a662ab",
   "metadata": {},
   "source": [
    "6.Модифікувати код з Прикладу 3 таким чином, щоби виняток, який виникає при введені, оброблявся і забезпечував функціонування програми."
   ]
  },
  {
   "cell_type": "code",
   "execution_count": 7,
   "id": "5a1d3225",
   "metadata": {},
   "outputs": [
    {
     "name": "stdout",
     "output_type": "stream",
     "text": [
      "Введіть дату народження у форматі YYYYMMDD:fdsfdfsd321sx\n",
      "Неправильний формат дати. Будь ласка, введіть дату у форматі YYYYMMDD.\n"
     ]
    }
   ],
   "source": [
    "def calculate_life_number(date):\n",
    "    try:\n",
    "        while True:\n",
    "            total_sum = 0\n",
    "            for char in date:\n",
    "                total_sum += int(char)\n",
    "\n",
    "            date = str(total_sum)\n",
    "\n",
    "            if len(date) == 1:\n",
    "                return total_sum\n",
    "    except ValueError:\n",
    "        print(\"Неправильний формат дати. Будь ласка, введіть дату у форматі YYYYMMDD.\")\n",
    "        return None\n",
    "user_input = input(\"Введіть дату народження у форматі YYYYMMDD:\")\n",
    "result = calculate_life_number(user_input)\n",
    "\n",
    "if result is not None:\n",
    "    print(\"Число\", result)\n"
   ]
  },
  {
   "cell_type": "markdown",
   "id": "d7b7ab3a",
   "metadata": {},
   "source": [
    "7.Ваше завдання – написати функцію, здатну набувати цілочисельних значень і перевіряти, чи знаходяться вони в зазначеному діапазоні."
   ]
  },
  {
   "cell_type": "code",
   "execution_count": 9,
   "id": "fca78a34",
   "metadata": {},
   "outputs": [
    {
     "name": "stdout",
     "output_type": "stream",
     "text": [
      "Enter an integer between 1 and 100: 122334\n",
      "Error: the value is not within permitted range (1..100)\n",
      "Enter an integer between 1 and 100: 12\n",
      "You entered: 12\n"
     ]
    }
   ],
   "source": [
    "def get_integer_input(prompt, min_value, max_value):\n",
    "    while True:\n",
    "        try:\n",
    "            user_input = int(input(prompt))\n",
    "            if min_value <= user_input <= max_value:\n",
    "                return user_input\n",
    "            else:\n",
    "                print(f\"Error: the value is not within permitted range ({min_value}..{max_value})\")\n",
    "        except ValueError:\n",
    "            print(\"Error: wrong input. Please enter an integer.\")\n",
    "\n",
    "# Приклад використання\n",
    "min_limit = 1\n",
    "max_limit = 100\n",
    "user_number = get_integer_input(f\"Enter an integer between {min_limit} and {max_limit}: \", min_limit, max_limit)\n",
    "\n",
    "print(f\"You entered: {user_number}\")\n"
   ]
  },
  {
   "cell_type": "markdown",
   "id": "880280db",
   "metadata": {},
   "source": [
    "## Контрольні запитання"
   ]
  },
  {
   "cell_type": "markdown",
   "id": "74eb3488",
   "metadata": {},
   "source": [
    "1.Який очікуваний вивід наступного коду?"
   ]
  },
  {
   "cell_type": "code",
   "execution_count": 11,
   "id": "d7e4dc5a",
   "metadata": {},
   "outputs": [
    {
     "name": "stdout",
     "output_type": "stream",
     "text": [
      "Let's try to do this!\n",
      "We failed!\n",
      "We're done\n"
     ]
    }
   ],
   "source": [
    "try:\n",
    "    print(\"Let's try to do this!\")\n",
    "    print(\"#\"[2])\n",
    "    print(\"We succeeded!\")\n",
    "except:\n",
    "    print(\"We failed!\")\n",
    "print(\"We're done\")"
   ]
  },
  {
   "cell_type": "markdown",
   "id": "7f5845e8",
   "metadata": {},
   "source": [
    "2.Який очікуваний результат наступного коду?"
   ]
  },
  {
   "cell_type": "code",
   "execution_count": 12,
   "id": "97706861",
   "metadata": {},
   "outputs": [
    {
     "name": "stdout",
     "output_type": "stream",
     "text": [
      "zero\n"
     ]
    }
   ],
   "source": [
    "    try:\n",
    "        print(\"alpha\"[1/0])\n",
    "    except ZeroDivisionError:\n",
    "        print(\"zero\")\n",
    "    except IndexingError:\n",
    "        print(\"index\")\n",
    "    except:\n",
    "        print(\"some\")"
   ]
  },
  {
   "cell_type": "markdown",
   "id": "2189919d",
   "metadata": {},
   "source": [
    "## References"
   ]
  },
  {
   "cell_type": "markdown",
   "id": "ec923949",
   "metadata": {},
   "source": [
    "1.https://github.com/Vlad1364/test_project/tree/master - посилання на GitHub-репозиторій"
   ]
  }
 ],
 "metadata": {
  "kernelspec": {
   "display_name": "Python 3 (ipykernel)",
   "language": "python",
   "name": "python3"
  },
  "language_info": {
   "codemirror_mode": {
    "name": "ipython",
    "version": 3
   },
   "file_extension": ".py",
   "mimetype": "text/x-python",
   "name": "python",
   "nbconvert_exporter": "python",
   "pygments_lexer": "ipython3",
   "version": "3.11.4"
  }
 },
 "nbformat": 4,
 "nbformat_minor": 5
}
