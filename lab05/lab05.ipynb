{
 "cells": [
  {
   "cell_type": "markdown",
   "id": "a40541d5",
   "metadata": {},
   "source": [
    "23.10.2023, author: Barbir Vladyslav, Lab:05"
   ]
  },
  {
   "cell_type": "markdown",
   "id": "e1e079d3",
   "metadata": {},
   "source": [
    "# Лабораторна робота №5. Списки"
   ]
  },
  {
   "cell_type": "markdown",
   "id": "588eb082",
   "metadata": {},
   "source": [
    "__Мета:__ освоїти роботу зі списками"
   ]
  },
  {
   "cell_type": "markdown",
   "id": "8a6fb710",
   "metadata": {},
   "source": [
    "# Хід роботи"
   ]
  },
  {
   "cell_type": "markdown",
   "id": "f483f400",
   "metadata": {},
   "source": [
    "1.Напишіть рядок коду, що пропонує користувачеві замінити число всередині списку цілим числом, введеним користувачем.Напишіть рядок коду, який видаляє останній елемент зі списку.Напишіть рядок коду, який друкує довжину існуючого списку."
   ]
  },
  {
   "cell_type": "code",
   "execution_count": 7,
   "id": "108c3152",
   "metadata": {},
   "outputs": [
    {
     "name": "stdout",
     "output_type": "stream",
     "text": [
      "Введіть індекс числа, яке ви хочете замінити: 0\n",
      "Введіть нове число: 12\n",
      "Довжина списку: 4\n",
      "Оновлений список: [12, 2, 3, 4]\n"
     ]
    }
   ],
   "source": [
    "my_list = [1, 2, 3, 4, 5]\n",
    "index_to_replace = int(input(\"Введіть індекс числа, яке ви хочете замінити: \"))\n",
    "new_value = int(input(\"Введіть нове число: \"))\n",
    "my_list[index_to_replace] = new_value\n",
    "\n",
    "my_list.pop()\n",
    "\n",
    "print(\"Довжина списку:\", len(my_list))\n",
    "print(\"Оновлений список:\", my_list)\n"
   ]
  },
  {
   "cell_type": "markdown",
   "id": "3467ab2e",
   "metadata": {},
   "source": [
    "2.Написати програму сортування списку у порядку зростання методом бульбашки."
   ]
  },
  {
   "cell_type": "code",
   "execution_count": 12,
   "id": "3a1cc132",
   "metadata": {},
   "outputs": [
    {
     "name": "stdout",
     "output_type": "stream",
     "text": [
      "Відсортований список: [2, 12, 16, 22, 25, 64, 90]\n"
     ]
    }
   ],
   "source": [
    "my_list = [64, 16, 25, 12, 22, 2, 90]\n",
    "\n",
    "n = len(my_list)\n",
    "for i in range(n):\n",
    "    for j in range(0, n - i - 1):\n",
    "        if my_list[j] > my_list[j + 1]:\n",
    "            my_list[j], my_list[j + 1] = my_list[j + 1], my_list[j]\n",
    "\n",
    "print(\"Відсортований список:\", my_list)\n",
    "\n"
   ]
  },
  {
   "cell_type": "markdown",
   "id": "57c62482",
   "metadata": {},
   "source": [
    "3.Написати програму, яка видаляє всі дублікати чисел зі списку."
   ]
  },
  {
   "cell_type": "code",
   "execution_count": 26,
   "id": "26f06715",
   "metadata": {},
   "outputs": [
    {
     "name": "stdout",
     "output_type": "stream",
     "text": [
      "Список без дублікатів: [1, 2, 3, 4, 5, 6, 7]\n"
     ]
    }
   ],
   "source": [
    "input_list = [1, 2, 2, 3, 4, 4, 5, 6, 6, 7]\n",
    "unique_list = []\n",
    "\n",
    "for item in input_list:\n",
    "    if item not in unique_list:\n",
    "        unique_list.append(item)\n",
    "\n",
    "print(\"Список без дублікатів:\", unique_list)\n"
   ]
  },
  {
   "cell_type": "markdown",
   "id": "8f0ddb1a",
   "metadata": {},
   "source": [
    "4.Напишіть код, використоувуючи генератори списків, який створює матрицю 8х8 з пустими клітинками (пуста клітинка задається як “_“) для задання шахівниці і розставте чотири тури по кутках шахівниці."
   ]
  },
  {
   "cell_type": "code",
   "execution_count": 16,
   "id": "e9df797c",
   "metadata": {},
   "outputs": [
    {
     "name": "stdout",
     "output_type": "stream",
     "text": [
      "T _ _ _ _ _ _ T\n",
      "_ _ _ _ _ _ _ _\n",
      "_ _ _ _ _ _ _ _\n",
      "_ _ _ _ _ _ _ _\n",
      "_ _ _ _ _ _ _ _\n",
      "_ _ _ _ _ _ _ _\n",
      "_ _ _ _ _ _ _ _\n",
      "T _ _ _ _ _ _ T\n"
     ]
    }
   ],
   "source": [
    "chess_board = [[\"_\" for _ in range(8)] for _ in range(8)]\n",
    "\n",
    "chess_board[0][0] = \"T\"  \n",
    "chess_board[0][7] = \"T\" \n",
    "chess_board[7][0] = \"T\"  \n",
    "chess_board[7][7] = \"T\"  \n",
    "\n",
    "# Виведення шахової дошки\n",
    "for row in chess_board:\n",
    "    print(\" \".join(row))\n"
   ]
  },
  {
   "cell_type": "markdown",
   "id": "b6381e0b",
   "metadata": {},
   "source": [
    "## Контрольні запитання"
   ]
  },
  {
   "cell_type": "markdown",
   "id": "c3829fe9",
   "metadata": {},
   "source": [
    "1.Який вивод наступного фрагмента?"
   ]
  },
  {
   "cell_type": "code",
   "execution_count": 20,
   "id": "0bb0a526",
   "metadata": {},
   "outputs": [
    {
     "name": "stdout",
     "output_type": "stream",
     "text": [
      "['C']\n"
     ]
    }
   ],
   "source": [
    "list_1 = [\"A\",\"B\",\"C\"]\n",
    "list_2 = list_1\n",
    "list_3 = list_2\n",
    "\n",
    "del list_1[0]\n",
    "del list_2[0]\n",
    "\n",
    "print(list_3)"
   ]
  },
  {
   "cell_type": "markdown",
   "id": "21c11315",
   "metadata": {},
   "source": [
    "2.Який вивод наступного фрагмента?"
   ]
  },
  {
   "cell_type": "code",
   "execution_count": 21,
   "id": "e7ed0456",
   "metadata": {},
   "outputs": [
    {
     "name": "stdout",
     "output_type": "stream",
     "text": [
      "['B', 'C']\n"
     ]
    }
   ],
   "source": [
    "list_1 = [\"A\",\"B\",\"C\"]\n",
    "list_2 = list_1\n",
    "list_3 = list_2\n",
    "\n",
    "del list_1[0]\n",
    "del list_2\n",
    "\n",
    "print(list_3)"
   ]
  },
  {
   "cell_type": "markdown",
   "id": "1ec657b8",
   "metadata": {},
   "source": [
    "3.Який вивод наступного фрагмента?"
   ]
  },
  {
   "cell_type": "code",
   "execution_count": 24,
   "id": "471dfded",
   "metadata": {},
   "outputs": [
    {
     "name": "stdout",
     "output_type": "stream",
     "text": [
      "['A', 'B', 'C']\n"
     ]
    }
   ],
   "source": [
    "list_1 = [\"A\",\"B\",\"C\"]\n",
    "list_2 = list_1[:]\n",
    "list_3 = list_2[:]\n",
    "\n",
    "del list_1[0]\n",
    "del list_2[:]\n",
    "\n",
    "print(list_3)"
   ]
  },
  {
   "cell_type": "markdown",
   "id": "74930dc9",
   "metadata": {},
   "source": [
    "4.Який вивод наступного фрагмента?"
   ]
  },
  {
   "cell_type": "code",
   "execution_count": 25,
   "id": "8ade78ef",
   "metadata": {},
   "outputs": [
    {
     "name": "stdout",
     "output_type": "stream",
     "text": [
      "['A', 'B', 'C']\n"
     ]
    }
   ],
   "source": [
    "list_1 = [\"A\",\"B\",\"C\"]\n",
    "list_2 = list_1[:]\n",
    "list_3 = list_2[:]\n",
    "\n",
    "del list_1[0]\n",
    "del list_2[0]\n",
    "\n",
    "print(list_3)"
   ]
  },
  {
   "cell_type": "markdown",
   "id": "dc93289a",
   "metadata": {},
   "source": [
    "## References"
   ]
  },
  {
   "cell_type": "markdown",
   "id": "146ee926",
   "metadata": {},
   "source": [
    "1.https://github.com/Vlad1364/test_project/tree/master - посилання на GitHub-репозиторій"
   ]
  }
 ],
 "metadata": {
  "kernelspec": {
   "display_name": "Python 3 (ipykernel)",
   "language": "python",
   "name": "python3"
  },
  "language_info": {
   "codemirror_mode": {
    "name": "ipython",
    "version": 3
   },
   "file_extension": ".py",
   "mimetype": "text/x-python",
   "name": "python",
   "nbconvert_exporter": "python",
   "pygments_lexer": "ipython3",
   "version": "3.11.4"
  }
 },
 "nbformat": 4,
 "nbformat_minor": 5
}
