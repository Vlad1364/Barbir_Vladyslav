{
 "cells": [
  {
   "cell_type": "markdown",
   "id": "b5beb4ef",
   "metadata": {},
   "source": [
    "09.10.2023, author: Barbir Vladyslav, Lab:04"
   ]
  },
  {
   "cell_type": "markdown",
   "id": "1e80254d",
   "metadata": {},
   "source": [
    "# Лабораторна робота №4. Логічні значення. Умовне виконання. Цикли"
   ]
  },
  {
   "cell_type": "markdown",
   "id": "3e68c9e5",
   "metadata": {},
   "source": [
    "__Мета:__ освоїти роботу з логічними змінними, операторами розгалуження та операторами циклів"
   ]
  },
  {
   "cell_type": "markdown",
   "id": "841e3a72",
   "metadata": {},
   "source": [
    "# Хід роботи"
   ]
  },
  {
   "cell_type": "markdown",
   "id": "b3df2a2e",
   "metadata": {},
   "source": [
    "1.Використовуючи один з операторів порівняння в Python, напишіть просту дворядкову програму, яка приймає як вхідні дані параметр n, який є цілим числом, і друкує `False`, якщо n менше 100 і `True`, якщо n більше або дорівнює 100."
   ]
  },
  {
   "cell_type": "code",
   "execution_count": 1,
   "id": "52db7779",
   "metadata": {},
   "outputs": [
    {
     "name": "stdout",
     "output_type": "stream",
     "text": [
      "Введіть ціле число n: 30\n",
      "False\n"
     ]
    }
   ],
   "source": [
    "n = int(input(\"Введіть ціле число n: \"))\n",
    "result = n >= 100\n",
    "print(result)"
   ]
  },
  {
   "cell_type": "markdown",
   "id": "70f6bbed",
   "metadata": {},
   "source": [
    "2.Написати програму визначення найбільшого з двох дійсних чисел, використовуючи констуркцію `if-else`."
   ]
  },
  {
   "cell_type": "code",
   "execution_count": 4,
   "id": "c03de97c",
   "metadata": {},
   "outputs": [
    {
     "name": "stdout",
     "output_type": "stream",
     "text": [
      "Введіть значення x: 4\n",
      "Введіть значення y: 3\n",
      "Найбільше значення це x:4\n"
     ]
    }
   ],
   "source": [
    "x= int(input(\"Введіть значення x: \"))\n",
    "y= int(input(\"Введіть значення y: \"))\n",
    "\n",
    "if x>y:\n",
    "    print(f\"Найбільше значення це x:{x}\")\n",
    "else:\n",
    "    print(f\"Найбільше значення це y:{y}\")"
   ]
  },
  {
   "cell_type": "markdown",
   "id": "56ceb87d",
   "metadata": {},
   "source": [
    "3.Напишіть програму, яка використовує концепцію умовного виконання, приймає рядок як вхідні дані та: виводить на екран пропозицію “Yes - Spathiphyllum is the best plant ever!”, якщо введений рядок - “Spathiphyllum” (верхній регістр)\n",
    "друкує “No, I want a big Spathiphyllum!”, якщо введений рядок - “spathiphyllum” (у нижньому регістрі) виводить “Spathiphyllum! Not [input]!” в іншому випадку."
   ]
  },
  {
   "cell_type": "code",
   "execution_count": 5,
   "id": "5dc24a28",
   "metadata": {},
   "outputs": [
    {
     "name": "stdout",
     "output_type": "stream",
     "text": [
      "Spathiphyllum\n",
      "Yes - Spathiphyllum is the best plant ever\n"
     ]
    }
   ],
   "source": [
    "user_input = input()\n",
    "\n",
    "if user_input == \"Spathiphyllum\":\n",
    "    print(\"Yes - Spathiphyllum is the best plant ever\")\n",
    "elif user_input == \"spathiphyllum\":\n",
    "    print(\"No, I want a big Spathiphyllum!\")\n",
    "else:\n",
    "    print(f\"Spathiphyllum! Not {user_input}!\")"
   ]
  },
  {
   "cell_type": "markdown",
   "id": "41e4d89b",
   "metadata": {},
   "source": [
    "4.Написати калькулятор податків"
   ]
  },
  {
   "cell_type": "code",
   "execution_count": 7,
   "id": "20c1d75d",
   "metadata": {},
   "outputs": [
    {
     "name": "stdout",
     "output_type": "stream",
     "text": [
      "Enter the annual income: 10000\n",
      "The tax is: 1244 thalers\n"
     ]
    }
   ],
   "source": [
    "income = float(input(\"Enter the annual income: \"))\n",
    "\n",
    "if income <= 85528:\n",
    "    tax = income * 0.18 - 556.02\n",
    "    if tax < 0:\n",
    "        tax = 0\n",
    "else:\n",
    "    tax = 14839.02 + (income - 85528) * 0.32\n",
    "\n",
    "tax = round(tax)\n",
    "print(\"The tax is:\", tax, \"thalers\")\n"
   ]
  },
  {
   "cell_type": "markdown",
   "id": "6fde16bf",
   "metadata": {},
   "source": [
    "5.Написати програму для визначення типу року(високосного або звичайного)."
   ]
  },
  {
   "cell_type": "code",
   "execution_count": 9,
   "id": "2cee09ea",
   "metadata": {},
   "outputs": [
    {
     "name": "stdout",
     "output_type": "stream",
     "text": [
      "Enter a year: 2000\n",
      "Leap year\n"
     ]
    }
   ],
   "source": [
    "year = int(input(\"Enter a year: \"))\n",
    "\n",
    "if year >= 1582:\n",
    "    if (year % 4 == 0 and year % 100 != 0) or (year % 400 == 0):\n",
    "        print(\"Leap year\")\n",
    "    else:\n",
    "        print(\"Common year\")\n",
    "else:\n",
    "    print(\"Not within the Gregorian calendar period\")"
   ]
  },
  {
   "cell_type": "markdown",
   "id": "c4cc1750",
   "metadata": {},
   "source": [
    "6.Написати програму яка попросить користувача ввести ціле число.Використовувавши цикл while.Перевірити, чи включає введене користувачем число з числом, вибраним фокусником. Якщо число, обране користувачем, відрізняється від секретного числа чарівника, користувач повинен побачити повідомлення \"Ха-ха! Ви застрягли у моїй петлі!\" і отримати запит на повторне введення числа. Якщо число, введене користувачем, співпадає з числом, вибраним фокусником, число має бути надруковане на екрані, і фокусник повинен вимовити наступне слово: «Молодець, магле! Тепер ти вільний»."
   ]
  },
  {
   "cell_type": "code",
   "execution_count": 11,
   "id": "1b7c09ad",
   "metadata": {},
   "outputs": [
    {
     "name": "stdout",
     "output_type": "stream",
     "text": [
      "Введіть ціле число: -1111\n",
      "Ха-ха! Ви застрягли у моїй петлі!\n",
      "Введіть ціле число: 32\n",
      "Ха-ха! Ви застрягли у моїй петлі!\n",
      "Введіть ціле число: 777\n",
      "Молодець, магле! Тепер ти вільний. Секретне число було 777.\n"
     ]
    }
   ],
   "source": [
    "secret_number = 777\n",
    "\n",
    "while True:\n",
    "    user_input = int(input(\"Введіть ціле число: \"))\n",
    "    if user_input != secret_number:\n",
    "        print(\"Ха-ха! Ви застрягли у моїй петлі!\")\n",
    "    else:\n",
    "        print(f\"Молодець, магле! Тепер ти вільний. Секретне число було {secret_number}.\")\n",
    "        break\n"
   ]
  },
  {
   "cell_type": "markdown",
   "id": "1d173373",
   "metadata": {},
   "source": [
    "7.Напишіть програму, яка використовує цикл for для «рахунку Міссісіпі» до п’яти. Порахувавши до п’яти, програма повинна вивести на екран фінальне повідомлення \"Ready or not, here I come!\""
   ]
  },
  {
   "cell_type": "code",
   "execution_count": 15,
   "id": "0eb43179",
   "metadata": {},
   "outputs": [
    {
     "name": "stdout",
     "output_type": "stream",
     "text": [
      "Міссісіпі 1\n",
      "Міссісіпі 2\n",
      "Міссісіпі 3\n",
      "Міссісіпі 4\n",
      "Міссісіпі 5\n",
      "Ready or not, here I come!\n"
     ]
    }
   ],
   "source": [
    "import time\n",
    "\n",
    "for i in range(1, 6):\n",
    "    print(\"Міссісіпі\", i)\n",
    "    time.sleep(1)\n",
    "\n",
    "print(\"Ready or not, here I come!\")"
   ]
  },
  {
   "cell_type": "markdown",
   "id": "de9c7ec4",
   "metadata": {},
   "source": [
    "8.Розробте програму, яка використовує цикл while і постійно просить користувача ввести слово, якщо користувач не вводить \"chupacabra\" як секретне вихідне слово, і в цьому випадку повідомлення \"You've successfully left the loop.\" має бути виведений на екран, а цикл має завершитись."
   ]
  },
  {
   "cell_type": "code",
   "execution_count": 13,
   "id": "3e376c55",
   "metadata": {},
   "outputs": [
    {
     "name": "stdout",
     "output_type": "stream",
     "text": [
      "Введіть слово: refdf\n",
      "Введіть слово: chupacabra\n",
      "You've successfully left the loop.\n"
     ]
    }
   ],
   "source": [
    "while True:\n",
    "    user_input = input(\"Введіть слово: \")\n",
    "\n",
    "    if user_input == \"chupacabra\":\n",
    "        print(\"You've successfully left the loop.\")\n",
    "        break"
   ]
  },
  {
   "cell_type": "markdown",
   "id": "8947f147",
   "metadata": {},
   "source": [
    "9.Створити програму пожирача голосних."
   ]
  },
  {
   "cell_type": "code",
   "execution_count": 16,
   "id": "78cf719a",
   "metadata": {},
   "outputs": [
    {
     "name": "stdout",
     "output_type": "stream",
     "text": [
      "Введіть слово: errtaiiecsdu\n",
      "R\n",
      "R\n",
      "T\n",
      "C\n",
      "S\n",
      "D\n"
     ]
    }
   ],
   "source": [
    "user_word = input(\"Введіть слово: \")\n",
    "user_word = user_word.upper()\n",
    "\n",
    "for letter in user_word:\n",
    "    if letter in \"AEIOU\":\n",
    "        continue\n",
    "    print(letter)"
   ]
  },
  {
   "cell_type": "markdown",
   "id": "3e5466fe",
   "metadata": {},
   "source": [
    "10.Ваше завдання тут ще особливіше, ніж раніше: Ви повинні переробити (потворного) пожирача голосних із попереднього завдання і створити кращого, покращеного (красивого) пожирача голосних."
   ]
  },
  {
   "cell_type": "code",
   "execution_count": 17,
   "id": "e3cb91ba",
   "metadata": {},
   "outputs": [
    {
     "name": "stdout",
     "output_type": "stream",
     "text": [
      "Введіть слово: yteudfdeweiicv\n",
      "YTDFDWCV\n"
     ]
    }
   ],
   "source": [
    "user_word = input(\"Введіть слово: \")\n",
    "user_word = user_word.upper()\n",
    "\n",
    "word_without_vowels = \"\"\n",
    "\n",
    "for letter in user_word:\n",
    "    if letter in \"AEIOU\":\n",
    "        continue\n",
    "    word_without_vowels += letter\n",
    "\n",
    "print(word_without_vowels)"
   ]
  },
  {
   "cell_type": "markdown",
   "id": "33a219d6",
   "metadata": {},
   "source": [
    "11.Написати програму, яка зчитує кількість блоків, що є у будівельників, та виводить висоту піраміди, яку можна побудувати з цих блоків."
   ]
  },
  {
   "cell_type": "code",
   "execution_count": 18,
   "id": "f38fb5d7",
   "metadata": {},
   "outputs": [
    {
     "name": "stdout",
     "output_type": "stream",
     "text": [
      "Введіть кількість доступних блоків: 1000\n",
      "Максимальна висота піраміди: 44\n"
     ]
    }
   ],
   "source": [
    "blocks_available = int(input(\"Введіть кількість доступних блоків: \"))\n",
    "\n",
    "height = 0  \n",
    "\n",
    "while blocks_available >= height + 1:\n",
    "    height += 1\n",
    "    blocks_available -= height\n",
    "\n",
    "print(\"Максимальна висота піраміди:\", height)"
   ]
  },
  {
   "cell_type": "markdown",
   "id": "776f4b02",
   "metadata": {},
   "source": [
    "12.Напишіть програму, яка зчитує одне натуральне число і виконує вказані вище кроки до тих пір, поки c0 залишається відмінним від 1. Ми також хочемо, щоб ви підрахували кроки, необхідні для досягнення мети. Ваш код також повинен виводити усі проміжні значення c0."
   ]
  },
  {
   "cell_type": "code",
   "execution_count": 21,
   "id": "69683a5c",
   "metadata": {},
   "outputs": [
    {
     "name": "stdout",
     "output_type": "stream",
     "text": [
      "Введіть натуральне число c0: 15\n",
      "15\n",
      "46\n",
      "23\n",
      "70\n",
      "35\n",
      "106\n",
      "53\n",
      "160\n",
      "80\n",
      "40\n",
      "20\n",
      "10\n",
      "5\n",
      "16\n",
      "8\n",
      "4\n",
      "2\n",
      "Кількість кроків для досягнення мети: 17\n"
     ]
    }
   ],
   "source": [
    "c0 = int(input(\"Введіть натуральне число c0: \"))\n",
    "steps = 0  \n",
    "while c0 != 1:\n",
    "    print(c0) \n",
    "    if c0 % 2 == 0:\n",
    "        c0 = c0 // 2\n",
    "    else:\n",
    "        c0 = 3 * c0 + 1\n",
    "    steps += 1  \n",
    "print(\"Кількість кроків для досягнення мети:\", steps)"
   ]
  },
  {
   "cell_type": "markdown",
   "id": "7109162a",
   "metadata": {},
   "source": [
    "## Контрольні запитання"
   ]
  },
  {
   "cell_type": "markdown",
   "id": "945ab702",
   "metadata": {},
   "source": [
    "1.Який вивод наступного фрагмента?"
   ]
  },
  {
   "cell_type": "code",
   "execution_count": 23,
   "id": "ae83fbd8",
   "metadata": {},
   "outputs": [
    {
     "name": "stdout",
     "output_type": "stream",
     "text": [
      "False\n",
      "True\n"
     ]
    }
   ],
   "source": [
    "x=5\n",
    "y=10\n",
    "z=8\n",
    "\n",
    "print(x>y)\n",
    "print(y>z)"
   ]
  },
  {
   "cell_type": "markdown",
   "id": "427f06d8",
   "metadata": {},
   "source": [
    "2.Який вивод наступного фрагмента?"
   ]
  },
  {
   "cell_type": "code",
   "execution_count": 24,
   "id": "aff9bb58",
   "metadata": {},
   "outputs": [
    {
     "name": "stdout",
     "output_type": "stream",
     "text": [
      "False\n",
      "True\n"
     ]
    }
   ],
   "source": [
    "x,y,z = 5,10,8\n",
    "print(x>z)\n",
    "print((y-5)==x)"
   ]
  },
  {
   "cell_type": "markdown",
   "id": "34433df2",
   "metadata": {},
   "source": [
    "3.Який вивод наступного фрагмента?"
   ]
  },
  {
   "cell_type": "code",
   "execution_count": 25,
   "id": "f0d17325",
   "metadata": {},
   "outputs": [
    {
     "name": "stdout",
     "output_type": "stream",
     "text": [
      "True\n",
      "False\n"
     ]
    }
   ],
   "source": [
    "x,y,z = 5,10,8\n",
    "x,y,z = z,y,x\n",
    "print(x>z)\n",
    "print((y-5)==x)"
   ]
  },
  {
   "cell_type": "markdown",
   "id": "230f3838",
   "metadata": {},
   "source": [
    "## References"
   ]
  },
  {
   "cell_type": "markdown",
   "id": "4323e0ac",
   "metadata": {},
   "source": [
    "1.https://github.com/Vlad1364/test_project/tree/master - посилання на GitHub-репозиторій"
   ]
  }
 ],
 "metadata": {
  "kernelspec": {
   "display_name": "Python 3 (ipykernel)",
   "language": "python",
   "name": "python3"
  },
  "language_info": {
   "codemirror_mode": {
    "name": "ipython",
    "version": 3
   },
   "file_extension": ".py",
   "mimetype": "text/x-python",
   "name": "python",
   "nbconvert_exporter": "python",
   "pygments_lexer": "ipython3",
   "version": "3.11.4"
  }
 },
 "nbformat": 4,
 "nbformat_minor": 5
}
