{
 "cells": [
  {
   "cell_type": "markdown",
   "id": "57d96230",
   "metadata": {},
   "source": [
    "25.11.2023, author: Barbir Vladyslav, Lab:12"
   ]
  },
  {
   "cell_type": "markdown",
   "id": "17773489",
   "metadata": {},
   "source": [
    "# Лабораторна робота №12. Об’єктно-орієнтоване програмування. Частина ІІ"
   ]
  },
  {
   "cell_type": "markdown",
   "id": "5eaf0c14",
   "metadata": {},
   "source": [
    "__Мета:__ навчитися програмувати в стилі об’єектно-орієнтованого програмування."
   ]
  },
  {
   "cell_type": "markdown",
   "id": "f5b80ee3",
   "metadata": {},
   "source": [
    "# Хід роботи"
   ]
  },
  {
   "cell_type": "markdown",
   "id": "7d364f97",
   "metadata": {},
   "source": [
    "1.Доповніть шаблон, який ми надали в редакторі. Запустіть свій код і перевірте, чи виглядає результат так само, як наш."
   ]
  },
  {
   "cell_type": "code",
   "execution_count": 1,
   "id": "4fb1784a",
   "metadata": {},
   "outputs": [
    {
     "name": "stdout",
     "output_type": "stream",
     "text": [
      "23:59:59\n",
      "00:00:00\n",
      "23:59:59\n"
     ]
    }
   ],
   "source": [
    "class Timer:\n",
    "    def __init__(self, hours=0, minutes=0, seconds=0):\n",
    "        self.__hours = hours\n",
    "        self.__minutes = minutes\n",
    "        self.__seconds = seconds\n",
    "\n",
    "    def __format_time(self, value):\n",
    "        return f\"{value:02}\"\n",
    "\n",
    "    def __str__(self):\n",
    "        return f\"{self.__format_time(self.__hours)}:{self.__format_time(self.__minutes)}:{self.__format_time(self.__seconds)}\"\n",
    "\n",
    "    def next_second(self):\n",
    "        self.__seconds += 1\n",
    "        if self.__seconds == 60:\n",
    "            self.__seconds = 0\n",
    "            self.__minutes += 1\n",
    "            if self.__minutes == 60:\n",
    "                self.__minutes = 0\n",
    "                self.__hours += 1\n",
    "                if self.__hours == 24:\n",
    "                    self.__hours = 0\n",
    "\n",
    "    def previous_second(self):\n",
    "        self.__seconds -= 1\n",
    "        if self.__seconds == -1:\n",
    "            self.__seconds = 59\n",
    "            self.__minutes -= 1\n",
    "            if self.__minutes == -1:\n",
    "                self.__minutes = 59\n",
    "                self.__hours -= 1\n",
    "                if self.__hours == -1:\n",
    "                    self.__hours = 23\n",
    "\n",
    "timer = Timer(23, 59, 59)\n",
    "print(timer)\n",
    "timer.next_second()\n",
    "print(timer)\n",
    "timer.previous_second()\n",
    "print(timer)\n"
   ]
  },
  {
   "cell_type": "markdown",
   "id": "392b50e8",
   "metadata": {},
   "source": [
    "2.Ваше завдання – реалізувати клас під назвою Weeker. Так, Ваші очі не обманюють Вас – ця назва походить від того факту, що об’єкти цього класу можуть зберігати та керувати днями тижня."
   ]
  },
  {
   "cell_type": "code",
   "execution_count": 3,
   "id": "80970142",
   "metadata": {},
   "outputs": [
    {
     "name": "stdout",
     "output_type": "stream",
     "text": [
      "Mon\n",
      "Tue\n",
      "Sun\n",
      "Sorry, I can't serve your request.\n"
     ]
    }
   ],
   "source": [
    "class WeekDayError(Exception):\n",
    "    pass\n",
    "\n",
    "\n",
    "class Weeker:\n",
    "    DAYS_OF_WEEK = ['Mon', 'Tue', 'Wed', 'Thu', 'Fri', 'Sat', 'Sun']\n",
    "\n",
    "    def __init__(self, day):\n",
    "        if day not in self.DAYS_OF_WEEK:\n",
    "            raise WeekDayError(\"Invalid day of the week\")\n",
    "        self.__current_day_index = self.DAYS_OF_WEEK.index(day)\n",
    "\n",
    "    def __str__(self):\n",
    "        return self.DAYS_OF_WEEK[self.__current_day_index]\n",
    "\n",
    "    def add_days(self, n):\n",
    "        self.__current_day_index = (self.__current_day_index + n) % 7\n",
    "\n",
    "    def subtract_days(self, n):\n",
    "        self.__current_day_index = (self.__current_day_index - n) % 7\n",
    "\n",
    "\n",
    "try:\n",
    "    weekday = Weeker('Mon')\n",
    "    print(weekday)\n",
    "    weekday.add_days(15)\n",
    "    print(weekday)\n",
    "    weekday.subtract_days(23)\n",
    "    print(weekday) \n",
    "    weekday = Weeker('Monday') \n",
    "except WeekDayError:\n",
    "    print(\"Sorry, I can't serve your request.\")\n"
   ]
  },
  {
   "cell_type": "markdown",
   "id": "c4c05532",
   "metadata": {},
   "source": [
    "3.Завдання досить просте, якщо Ви скористаєтеся функцією з ім’ям hypot() (доступна в модулі math), яка вважає довжину гіпотенузи прямокутного трикутника (докладніше тут: Гіпотенуза) і тут: Trigonometric functions."
   ]
  },
  {
   "cell_type": "code",
   "execution_count": 5,
   "id": "90194572",
   "metadata": {},
   "outputs": [
    {
     "name": "stdout",
     "output_type": "stream",
     "text": [
      "1.4142135623730951\n",
      "1.4142135623730951\n"
     ]
    }
   ],
   "source": [
    "import math\n",
    "\n",
    "class Point:\n",
    "    def __init__(self, x=0.0, y=0.0):\n",
    "        self.__x = x\n",
    "        self.__y = y\n",
    "\n",
    "    def getx(self):\n",
    "        return self.__x\n",
    "\n",
    "    def gety(self):\n",
    "        return self.__y\n",
    "\n",
    "    def distance_from_xy(self, x, y):\n",
    "        return math.hypot(self.__x - x, self.__y - y)\n",
    "\n",
    "    def distance_from_point(self, point):\n",
    "        return math.hypot(self.__x - point.getx(), self.__y - point.gety())\n",
    "\n",
    "\n",
    "point1 = Point(0, 0)\n",
    "point2 = Point(1, 1)\n",
    "print(point1.distance_from_point(point2)) \n",
    "print(point2.distance_from_xy(2, 0))\n"
   ]
  },
  {
   "cell_type": "markdown",
   "id": "214f4ff0",
   "metadata": {},
   "source": [
    "4.Тепер ми збираємося вбудувати клас Point (див. попереднє завдання) в інший клас. Крім того, ми збираємося помістити три точки в один клас, що дозволить нам визначити трикутник. Як ми можемо це зробити?"
   ]
  },
  {
   "cell_type": "code",
   "execution_count": 6,
   "id": "da1d3730",
   "metadata": {},
   "outputs": [
    {
     "name": "stdout",
     "output_type": "stream",
     "text": [
      "3.414213562373095\n"
     ]
    }
   ],
   "source": [
    "import math\n",
    "class Point:\n",
    "    def __init__(self, x=0.0, y=0.0):\n",
    "        self.__x = x\n",
    "        self.__y = y\n",
    "\n",
    "    def getx(self):\n",
    "        return self.__x\n",
    "\n",
    "    def gety(self):\n",
    "        return self.__y\n",
    "\n",
    "    def distance_from_xy(self, x, y):\n",
    "        return math.hypot(self.__x - x, self.__y - y)\n",
    "\n",
    "    def distance_from_point(self, point):\n",
    "        return math.hypot(self.__x - point.getx(), self.__y - point.gety())\n",
    "\n",
    "class Triangle:\n",
    "    def __init__(self, point1, point2, point3):\n",
    "        self.__points = [point1, point2, point3]\n",
    "\n",
    "    def perimeter(self):\n",
    "        side1 = self.__points[0].distance_from_point(self.__points[1])\n",
    "        side2 = self.__points[1].distance_from_point(self.__points[2])\n",
    "        side3 = self.__points[2].distance_from_point(self.__points[0])\n",
    "        return side1 + side2 + side3\n",
    "\n",
    "point1 = Point(0, 0)\n",
    "point2 = Point(1, 0)\n",
    "point3 = Point(0, 1)\n",
    "\n",
    "triangle = Triangle(point1, point2, point3)\n",
    "print(triangle.perimeter())\n"
   ]
  },
  {
   "cell_type": "markdown",
   "id": "e8c3a0e9",
   "metadata": {},
   "source": [
    "## Контрольні запитання"
   ]
  },
  {
   "cell_type": "markdown",
   "id": "72048259",
   "metadata": {},
   "source": [
    "Припустимо, що наступний фрагмент коду успішно виконано:"
   ]
  },
  {
   "cell_type": "code",
   "execution_count": 7,
   "id": "1ebf4faf",
   "metadata": {},
   "outputs": [],
   "source": [
    "class Dog: \n",
    "    kennel = 0 \n",
    "    def __init__(self, breed): \n",
    "        self.breed = breed \n",
    "        Dog.kennel += 1 \n",
    "\n",
    "    def __str__(self): \n",
    "        return self.breed + \" says: Woof!\" \n",
    "\n",
    "\n",
    "class SheepDog(Dog): \n",
    "    def __str__(self): \n",
    "        return super().__str__() + \" Don't run away, Little Lamb!\" \n",
    "\n",
    "\n",
    "class GuardDog(Dog): \n",
    "     def __str__(self): \n",
    "         return super().__str__() + \" Stay where you are, Mister Intruder!\" \n",
    "\n",
    "rocky = SheepDog(\"Collie\") \n",
    "luna = GuardDog(\"Dobermann\") "
   ]
  },
  {
   "cell_type": "markdown",
   "id": "7922d02d",
   "metadata": {},
   "source": [
    "1.Який очікуваний вивід наступного фрагмента коду?"
   ]
  },
  {
   "cell_type": "code",
   "execution_count": 8,
   "id": "0c6d4795",
   "metadata": {},
   "outputs": [
    {
     "name": "stdout",
     "output_type": "stream",
     "text": [
      "Collie says: Woof! Don't run away, Little Lamb!\n",
      "Dobermann says: Woof! Stay where you are, Mister Intruder!\n"
     ]
    }
   ],
   "source": [
    "print(rocky)\n",
    "print(luna)"
   ]
  },
  {
   "cell_type": "markdown",
   "id": "f104d223",
   "metadata": {},
   "source": [
    "2.Який очікуваний вивід наступного фрагмента коду?"
   ]
  },
  {
   "cell_type": "code",
   "execution_count": 10,
   "id": "15429ad2",
   "metadata": {},
   "outputs": [
    {
     "name": "stdout",
     "output_type": "stream",
     "text": [
      "True False\n",
      "False True\n"
     ]
    }
   ],
   "source": [
    "print(issubclass(SheepDog, Dog), issubclass(SheepDog, GuardDog))\n",
    "print(isinstance(rocky, GuardDog), isinstance(luna, GuardDog))"
   ]
  },
  {
   "cell_type": "markdown",
   "id": "be14cf05",
   "metadata": {},
   "source": [
    "## References"
   ]
  },
  {
   "cell_type": "markdown",
   "id": "51b7334f",
   "metadata": {},
   "source": [
    "1.https://github.com/Vlad1364/test_project/tree/master - посилання на GitHub-репозиторій"
   ]
  }
 ],
 "metadata": {
  "kernelspec": {
   "display_name": "Python 3 (ipykernel)",
   "language": "python",
   "name": "python3"
  },
  "language_info": {
   "codemirror_mode": {
    "name": "ipython",
    "version": 3
   },
   "file_extension": ".py",
   "mimetype": "text/x-python",
   "name": "python",
   "nbconvert_exporter": "python",
   "pygments_lexer": "ipython3",
   "version": "3.11.5"
  }
 },
 "nbformat": 4,
 "nbformat_minor": 5
}
